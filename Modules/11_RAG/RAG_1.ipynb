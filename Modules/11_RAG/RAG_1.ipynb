{
  "nbformat": 4,
  "nbformat_minor": 0,
  "metadata": {
    "colab": {
      "provenance": []
    },
    "kernelspec": {
      "name": "python3",
      "display_name": "Python 3"
    },
    "language_info": {
      "name": "python"
    }
  },
  "cells": [
    {
      "cell_type": "markdown",
      "source": [
        "# Building a RAG APP\n",
        "**Retrieval-Augmented Generation (RAG)** is a powerful NLP framework that combines a retrieval-based approach with generative models like GPT or BERT-based transformers. Instead of generating answers based solely on a model's internal knowledge, RAG retrieves relevant documents from an external knowledge base (like a vector store) and uses them to produce more accurate, grounded, and up-to-date responses\n",
        "\n",
        "##  Objective\n",
        "This code builds a RAG pipeline that indexes documents, retrieves relevant context for a user query, and generates accurate answers using a language model.\n",
        "\n"
      ],
      "metadata": {
        "id": "b3KwVYir-Lxi"
      }
    },
    {
      "cell_type": "markdown",
      "source": [
        "##  Setup"
      ],
      "metadata": {
        "id": "Ib0FXGfc_AE0"
      }
    },
    {
      "cell_type": "code",
      "source": [
        "%pip install --quiet --upgrade langchain-text-splitters langchain-community langgraph langchain-nvidia-ai-endpoints"
      ],
      "metadata": {
        "colab": {
          "base_uri": "https://localhost:8080/"
        },
        "id": "7fdfwQ5--aRQ",
        "outputId": "a4b0f63b-d9cd-42b1-a028-a4f0c7f7c126"
      },
      "execution_count": null,
      "outputs": [
        {
          "output_type": "stream",
          "name": "stdout",
          "text": [
            "\u001b[2K     \u001b[90m━━━━━━━━━━━━━━━━━━━━━━━━━━━━━━━━━━━━━━━━\u001b[0m \u001b[32m43.5/43.5 kB\u001b[0m \u001b[31m2.0 MB/s\u001b[0m eta \u001b[36m0:00:00\u001b[0m\n",
            "\u001b[2K   \u001b[90m━━━━━━━━━━━━━━━━━━━━━━━━━━━━━━━━━━━━━━━━\u001b[0m \u001b[32m2.5/2.5 MB\u001b[0m \u001b[31m39.9 MB/s\u001b[0m eta \u001b[36m0:00:00\u001b[0m\n",
            "\u001b[2K   \u001b[90m━━━━━━━━━━━━━━━━━━━━━━━━━━━━━━━━━━━━━━━━\u001b[0m \u001b[32m148.2/148.2 kB\u001b[0m \u001b[31m11.1 MB/s\u001b[0m eta \u001b[36m0:00:00\u001b[0m\n",
            "\u001b[2K   \u001b[90m━━━━━━━━━━━━━━━━━━━━━━━━━━━━━━━━━━━━━━━━\u001b[0m \u001b[32m41.3/41.3 kB\u001b[0m \u001b[31m2.7 MB/s\u001b[0m eta \u001b[36m0:00:00\u001b[0m\n",
            "\u001b[2K   \u001b[90m━━━━━━━━━━━━━━━━━━━━━━━━━━━━━━━━━━━━━━━━\u001b[0m \u001b[32m42.3/42.3 kB\u001b[0m \u001b[31m2.7 MB/s\u001b[0m eta \u001b[36m0:00:00\u001b[0m\n",
            "\u001b[2K   \u001b[90m━━━━━━━━━━━━━━━━━━━━━━━━━━━━━━━━━━━━━━━━\u001b[0m \u001b[32m47.3/47.3 kB\u001b[0m \u001b[31m3.0 MB/s\u001b[0m eta \u001b[36m0:00:00\u001b[0m\n",
            "\u001b[2K   \u001b[90m━━━━━━━━━━━━━━━━━━━━━━━━━━━━━━━━━━━━━━━━\u001b[0m \u001b[32m44.4/44.4 kB\u001b[0m \u001b[31m3.0 MB/s\u001b[0m eta \u001b[36m0:00:00\u001b[0m\n",
            "\u001b[2K   \u001b[90m━━━━━━━━━━━━━━━━━━━━━━━━━━━━━━━━━━━━━━━━\u001b[0m \u001b[32m194.8/194.8 kB\u001b[0m \u001b[31m14.4 MB/s\u001b[0m eta \u001b[36m0:00:00\u001b[0m\n",
            "\u001b[2K   \u001b[90m━━━━━━━━━━━━━━━━━━━━━━━━━━━━━━━━━━━━━━━━\u001b[0m \u001b[32m50.9/50.9 kB\u001b[0m \u001b[31m3.7 MB/s\u001b[0m eta \u001b[36m0:00:00\u001b[0m\n",
            "\u001b[2K   \u001b[90m━━━━━━━━━━━━━━━━━━━━━━━━━━━━━━━━━━━━━━━━\u001b[0m \u001b[32m223.6/223.6 kB\u001b[0m \u001b[31m13.5 MB/s\u001b[0m eta \u001b[36m0:00:00\u001b[0m\n",
            "\u001b[?25h"
          ]
        }
      ]
    },
    {
      "cell_type": "code",
      "source": [
        "import getpass\n",
        "import os\n",
        "\n",
        "# Set up your api key\n",
        "if not os.environ.get(\"NVIDIA_API_KEY\"):\n",
        "  os.environ[\"NVIDIA_API_KEY\"] = getpass.getpass(\"Enter API key for NVIDIA: \")"
      ],
      "metadata": {
        "colab": {
          "base_uri": "https://localhost:8080/"
        },
        "id": "1dTbga6G-aNY",
        "outputId": "2ba2ac1a-f5dd-495c-9aaa-8c21fcfc3f24"
      },
      "execution_count": null,
      "outputs": [
        {
          "name": "stdout",
          "output_type": "stream",
          "text": [
            "Enter API key for NVIDIA: ··········\n"
          ]
        }
      ]
    },
    {
      "cell_type": "code",
      "source": [
        "from langchain.chat_models import init_chat_model\n",
        "from langchain_nvidia_ai_endpoints import NVIDIAEmbeddings\n",
        "\n",
        "# Select the chat model\n",
        "llm = init_chat_model('meta/llama-3.1-70b-instruct', model_provider = 'nvidia')\n",
        "\n",
        "# Select the embedding model\n",
        "embeddings = NVIDIAEmbeddings(model='NV-Embed-QA')"
      ],
      "metadata": {
        "id": "7DbJUzFu-aKo"
      },
      "execution_count": null,
      "outputs": []
    },
    {
      "cell_type": "code",
      "source": [
        "# Select vectstore\n",
        "from langchain_core.vectorstores import InMemoryVectorStore\n",
        "\n",
        "vect_store = InMemoryVectorStore(embeddings)"
      ],
      "metadata": {
        "id": "Bc1VAyi5-aIE"
      },
      "execution_count": null,
      "outputs": []
    },
    {
      "cell_type": "markdown",
      "source": [
        "##  Complete Preview"
      ],
      "metadata": {
        "id": "ngEzZWPj-aFi"
      }
    },
    {
      "cell_type": "code",
      "source": [
        "import bs4\n",
        "from bs4 import SoupStrainer\n",
        "from langchain import hub\n",
        "from langchain_community.document_loaders import WebBaseLoader\n",
        "from langchain.text_splitter import RecursiveCharacterTextSplitter\n",
        "from langchain_core.documents import Document\n",
        "from langgraph.graph import START, StateGraph\n",
        "from typing_extensions import List, TypedDict\n",
        "\n",
        "# Load the blog post\n",
        "\n",
        "# Load and chunk contents of the blog\n",
        "loader = WebBaseLoader(\n",
        "    web_paths=(\"https://lilianweng.github.io/posts/2023-06-23-agent/\",),\n",
        "    bs_kwargs=dict(\n",
        "        parse_only=bs4.SoupStrainer(\n",
        "            class_=(\"post-content\", \"post-title\", \"post-header\")\n",
        "        )\n",
        "    ),\n",
        ")\n",
        "\n",
        "docs = loader.load()"
      ],
      "metadata": {
        "id": "I0YEYJ5p-aDD"
      },
      "execution_count": null,
      "outputs": []
    },
    {
      "cell_type": "code",
      "source": [
        "# split into smaller chunks\n",
        "text_splitter = RecursiveCharacterTextSplitter(chunk_size=500, chunk_overlap=0)\n",
        "docs = text_splitter.split_documents(docs)\n",
        "\n",
        "# Index the chunks\n",
        "_ = vect_store.add_documents(docs)"
      ],
      "metadata": {
        "id": "1MWiWbia-aAt"
      },
      "execution_count": null,
      "outputs": []
    },
    {
      "cell_type": "code",
      "source": [
        "# Define prompt for question-answering\n",
        "prompt = hub.pull(\"rlm/rag-prompt\")\n",
        "\n",
        "# Define state\n",
        "class State(TypedDict):\n",
        "  question: str\n",
        "  context: List[Document]\n",
        "  answer: str\n",
        "\n",
        "def retriver(state: State):\n",
        "  retrieved_docs = vect_store.similarity_search(state['question'])\n",
        "  return {'context': retrieved_docs}\n",
        "\n",
        "def generate(state: State):\n",
        "    docs_content = \"\\n\\n\".join(doc.page_content for doc in state[\"context\"])\n",
        "    messages = prompt.invoke({\"question\": state[\"question\"], \"context\": docs_content})\n",
        "    response = llm.invoke(messages)\n",
        "    return {\"answer\": response.content}"
      ],
      "metadata": {
        "colab": {
          "base_uri": "https://localhost:8080/"
        },
        "id": "yhLm86EE-Z9-",
        "outputId": "15bfd48c-f75f-4df2-eee3-3a11d6666e4f"
      },
      "execution_count": null,
      "outputs": [
        {
          "output_type": "stream",
          "name": "stderr",
          "text": [
            "/usr/local/lib/python3.11/dist-packages/langsmith/client.py:280: LangSmithMissingAPIKeyWarning: API key must be provided when using hosted LangSmith API\n",
            "  warnings.warn(\n"
          ]
        }
      ]
    },
    {
      "cell_type": "code",
      "source": [
        "# Compile application and test\n",
        "graph_builder = StateGraph(State).add_sequence([retriver, generate])\n",
        "graph_builder.add_edge(START, \"retriver\")\n",
        "graph = graph_builder.compile()"
      ],
      "metadata": {
        "id": "7A5RhDOw-Z76"
      },
      "execution_count": null,
      "outputs": []
    },
    {
      "cell_type": "code",
      "source": [
        "response = graph.invoke({\"question\": \"What is Task Decomposition?\"})\n",
        "print(response[\"answer\"])"
      ],
      "metadata": {
        "colab": {
          "base_uri": "https://localhost:8080/"
        },
        "id": "HGMQijwx-Z5r",
        "outputId": "ace0c853-f448-4409-8606-5af550fe9fa8"
      },
      "execution_count": null,
      "outputs": [
        {
          "output_type": "stream",
          "name": "stdout",
          "text": [
            "Task decomposition is the process of breaking down a large, complex task into smaller, manageable subgoals, enabling efficient handling of the task. It can be done through various methods, including simple prompting, task-specific instructions, or with human inputs. This process is a key component of planning in a autonomous agent system, allowing the agent to plan ahead and handle complicated tasks.\n"
          ]
        }
      ]
    },
    {
      "cell_type": "markdown",
      "source": [
        "## 1. Indexing"
      ],
      "metadata": {
        "id": "ge20SDMf-Z3O"
      }
    },
    {
      "cell_type": "markdown",
      "source": [
        "### Loading Documents"
      ],
      "metadata": {
        "id": "Ljs_GZ0lFXTi"
      }
    },
    {
      "cell_type": "code",
      "source": [
        "import bs4\n",
        "from langchain_community.document_loaders import WebBaseLoader\n",
        "\n",
        "# Focus only on <article> tags (or adapt if Medium uses different structure)\n",
        "bs4_strainer = SoupStrainer([\"article\", \"h1\", \"h2\", \"h3\", \"p\", \"title\"])\n",
        "\n",
        "loader = WebBaseLoader(\n",
        "    web_paths=(\"https://medium.com/@aakuskar.980/what-is-the-model-context-protocol-mcp-f6e287d62adc\",),\n",
        "    bs_kwargs={\"parse_only\": bs4_strainer},\n",
        ")\n",
        "\n",
        "docs = loader.load()\n",
        "\n",
        "assert len(docs) == 1\n",
        "print(f\"Total characters: {len(docs[0].page_content)}\")"
      ],
      "metadata": {
        "colab": {
          "base_uri": "https://localhost:8080/"
        },
        "id": "nckPVxq--Z0o",
        "outputId": "867254b9-178f-4ee9-9e3a-029321cb9ab4"
      },
      "execution_count": null,
      "outputs": [
        {
          "output_type": "stream",
          "name": "stdout",
          "text": [
            "Total characters: 8193\n"
          ]
        }
      ]
    },
    {
      "cell_type": "code",
      "source": [
        "print(docs[0].page_content[:500])"
      ],
      "metadata": {
        "colab": {
          "base_uri": "https://localhost:8080/"
        },
        "id": "UhI0056tEq8Q",
        "outputId": "0284e0ea-a4f7-4e68-faed-b3eaf98e616c"
      },
      "execution_count": null,
      "outputs": [
        {
          "output_type": "stream",
          "name": "stdout",
          "text": [
            "What is the Model Context Protocol (MCP)? | by Aditya Ak | Mar, 2025 | MediumSign upSign inSign upSign inWhat is the Model Context Protocol (MCP)?Aditya AkFollow5 min read·Mar 24, 2025--ListenShareIn the rapidly evolving world of AI, the Model Context Protocol (MCP) is gaining attention for a good reason. It acts as a communication bridge between AI models and external systems, enabling AI assistants to directly interact with various services. This creates new possibilities for AI applications t\n"
          ]
        }
      ]
    },
    {
      "cell_type": "markdown",
      "source": [
        "### Splitting Documents"
      ],
      "metadata": {
        "id": "Pxq7bixLFFWI"
      }
    },
    {
      "cell_type": "code",
      "source": [
        "from langchain_text_splitters import RecursiveCharacterTextSplitter\n",
        "\n",
        "text_splitter = RecursiveCharacterTextSplitter(chunk_size=300, chunk_overlap=50, add_start_index=True)\n",
        "docs = text_splitter.split_documents(docs)\n",
        "\n",
        "print(f'Total chunks: {len(docs)}')"
      ],
      "metadata": {
        "colab": {
          "base_uri": "https://localhost:8080/"
        },
        "id": "7stlBqOdFcyr",
        "outputId": "d821a6aa-763c-480e-91ae-9d34cbf542e1"
      },
      "execution_count": null,
      "outputs": [
        {
          "output_type": "stream",
          "name": "stdout",
          "text": [
            "Total chunks: 35\n"
          ]
        }
      ]
    },
    {
      "cell_type": "markdown",
      "source": [
        "### Storing documents"
      ],
      "metadata": {
        "id": "jk8F5xYYFcwL"
      }
    },
    {
      "cell_type": "code",
      "source": [
        "document_ids = vect_store.add_documents(documents=docs)\n",
        "\n",
        "print(document_ids[:3])"
      ],
      "metadata": {
        "colab": {
          "base_uri": "https://localhost:8080/"
        },
        "id": "t1BNJdtFFcuA",
        "outputId": "6c7ef3a2-6acf-4d82-dab4-c16866cb1b75"
      },
      "execution_count": null,
      "outputs": [
        {
          "output_type": "stream",
          "name": "stdout",
          "text": [
            "['274988d2-aaf8-4ffa-887e-9e652979dc27', '5133035c-53b5-44f9-8441-b97b6c488bfb', 'd4ed40a8-3abc-44e3-b367-2d7338ed9e4e']\n"
          ]
        }
      ]
    },
    {
      "cell_type": "markdown",
      "source": [
        "## 2. Retrieval and Generation"
      ],
      "metadata": {
        "id": "IIWqIvOZFcr3"
      }
    },
    {
      "cell_type": "code",
      "source": [
        "from langchain import hub\n",
        "\n",
        "prompt = hub.pull(\"rlm/rag-prompt\")\n",
        "\n",
        "example_messages = prompt.invoke(\n",
        "    {\"context\": \"(context goes here)\", \"question\": \"(question goes here)\"}\n",
        ").to_messages()\n",
        "\n",
        "assert len(example_messages) == 1\n",
        "print(example_messages[0].content)"
      ],
      "metadata": {
        "colab": {
          "base_uri": "https://localhost:8080/"
        },
        "id": "GohaC9lMFcp1",
        "outputId": "3c0f51fd-6e4d-48f5-ecf1-2c992f27089a"
      },
      "execution_count": null,
      "outputs": [
        {
          "output_type": "stream",
          "name": "stdout",
          "text": [
            "You are an assistant for question-answering tasks. Use the following pieces of retrieved context to answer the question. If you don't know the answer, just say that you don't know. Use three sentences maximum and keep the answer concise.\n",
            "Question: (question goes here) \n",
            "Context: (context goes here) \n",
            "Answer:\n"
          ]
        },
        {
          "output_type": "stream",
          "name": "stderr",
          "text": [
            "/usr/local/lib/python3.11/dist-packages/langsmith/client.py:280: LangSmithMissingAPIKeyWarning: API key must be provided when using hosted LangSmith API\n",
            "  warnings.warn(\n"
          ]
        }
      ]
    },
    {
      "cell_type": "code",
      "source": [
        "from langchain_core.documents import Document\n",
        "from typing_extensions import List, TypedDict\n",
        "\n",
        "\n",
        "class State(TypedDict):\n",
        "    question: str\n",
        "    context: List[Document]\n",
        "    answer: str"
      ],
      "metadata": {
        "id": "RztE5E7wFcnj"
      },
      "execution_count": null,
      "outputs": []
    },
    {
      "cell_type": "code",
      "source": [
        "def retrieve(state: State):\n",
        "    retrieved_docs = vect_store.similarity_search(state[\"question\"])\n",
        "    return {\"context\": retrieved_docs}\n",
        "\n",
        "\n",
        "def generate(state: State):\n",
        "    docs_content = \"\\n\\n\".join(doc.page_content for doc in state[\"context\"])\n",
        "    messages = prompt.invoke({\"question\": state[\"question\"], \"context\": docs_content})\n",
        "    response = llm.invoke(messages)\n",
        "    return {\"answer\": response.content}"
      ],
      "metadata": {
        "id": "sYAOjZRnFclH"
      },
      "execution_count": null,
      "outputs": []
    },
    {
      "cell_type": "code",
      "source": [
        "from langgraph.graph import START, StateGraph\n",
        "\n",
        "graph_builder = StateGraph(State).add_sequence([retrieve, generate])\n",
        "graph_builder.add_edge(START, \"retrieve\")\n",
        "graph = graph_builder.compile()"
      ],
      "metadata": {
        "id": "KBLvvV35Fci_"
      },
      "execution_count": null,
      "outputs": []
    },
    {
      "cell_type": "code",
      "source": [
        "from IPython.display import Image, display\n",
        "\n",
        "display(Image(graph.get_graph().draw_mermaid_png()))"
      ],
      "metadata": {
        "colab": {
          "base_uri": "https://localhost:8080/",
          "height": 350
        },
        "id": "_MCXb7khHAnu",
        "outputId": "0a0a8640-f72b-4806-9505-094492019bb6"
      },
      "execution_count": null,
      "outputs": [
        {
          "output_type": "display_data",
          "data": {
            "image/png": "[encoded data removed]",
            "text/plain": [
              "<IPython.core.display.Image object>"
            ]
          },
          "metadata": {}
        }
      ]
    },
    {
      "cell_type": "code",
      "source": [
        "result = graph.invoke({\"question\": \"What is MCP?\"})\n",
        "\n",
        "print(f'Context: {result[\"context\"]}\\n\\n')\n",
        "print(f'Answer: {result[\"answer\"]}')"
      ],
      "metadata": {
        "colab": {
          "base_uri": "https://localhost:8080/"
        },
        "id": "KUJJ9aStHCOC",
        "outputId": "6fd009c2-c856-4325-c432-bd5cc5b2944b"
      },
      "execution_count": null,
      "outputs": [
        {
          "output_type": "stream",
          "name": "stdout",
          "text": [
            "Context: [Document(id='b9713bfd-01ca-4475-af98-21277b9c908b', metadata={'source': 'https://medium.com/@aakuskar.980/what-is-the-model-context-protocol-mcp-f6e287d62adc', 'title': 'What is the Model Context Protocol (MCP)? | by Aditya Ak | Mar, 2025 | Medium', 'start_index': 761}, page_content='in AI integration. By providing a universal interface, it allows AI models to break free from their limitations and interact with external tools and data. With its flexible, secure, and scalable design, MCP makes it easier for developers'), Document(id='40dc8a6d-2f15-426f-8d08-e6e762a7c34a', metadata={'source': 'https://medium.com/@aakuskar.980/what-is-the-model-context-protocol-mcp-f6e287d62adc', 'title': 'What is the Model Context Protocol (MCP)? | by Aditya Ak | Mar, 2025 | Medium', 'start_index': 761}, page_content='in AI integration. By providing a universal interface, it allows AI models to break free from their limitations and interact with external tools and data. With its flexible, secure, and scalable design, MCP makes it easier for developers'), Document(id='e8823f4b-6b99-4b6f-b7e9-6087fdf3412c', metadata={'source': 'https://medium.com/@aakuskar.980/what-is-the-model-context-protocol-mcp-f6e287d62adc', 'title': 'What is the Model Context Protocol (MCP)? | by Aditya Ak | Mar, 2025 | Medium', 'start_index': 0}, page_content='Enables language models to use external tools, enhancing their functionality and applicability.How Does MCP Work?MCP operates on a client-server architecture:MCP Hosts: These are the AI applications or interfaces, such as IDEs, or AI tools, that seek to access data through MCP. They initiate'), Document(id='095f7dbc-3e67-4dc1-bf41-a4a4f848f450', metadata={'source': 'https://medium.com/@aakuskar.980/what-is-the-model-context-protocol-mcp-f6e287d62adc', 'title': 'What is the Model Context Protocol (MCP)? | by Aditya Ak | Mar, 2025 | Medium', 'start_index': 0}, page_content='Enables language models to use external tools, enhancing their functionality and applicability.How Does MCP Work?MCP operates on a client-server architecture:MCP Hosts: These are the AI applications or interfaces, such as IDEs, or AI tools, that seek to access data through MCP. They initiate')]\n",
            "\n",
            "\n",
            "Answer: MCP (Model-agnostic Communication Protocol) is a universal interface that enables AI models to interact with external tools and data, breaking free from their limitations. It operates on a client-server architecture, allowing AI applications or interfaces (MCP Hosts) to access data through MCP. MCP enhances language models' functionality and applicability.\n"
          ]
        }
      ]
    },
    {
      "cell_type": "code",
      "source": [
        "for step in graph.stream(\n",
        "    {\"question\": \"What is MCP?\"}, stream_mode=\"updates\"\n",
        "):\n",
        "    print(f\"{step}\\n\\n----------------\\n\")"
      ],
      "metadata": {
        "colab": {
          "base_uri": "https://localhost:8080/"
        },
        "id": "M9-lDkNsHIn_",
        "outputId": "926b8b96-8b60-4026-eb59-55fc82101324"
      },
      "execution_count": null,
      "outputs": [
        {
          "output_type": "stream",
          "name": "stdout",
          "text": [
            "{'retrieve': {'context': [Document(id='b9713bfd-01ca-4475-af98-21277b9c908b', metadata={'source': 'https://medium.com/@aakuskar.980/what-is-the-model-context-protocol-mcp-f6e287d62adc', 'title': 'What is the Model Context Protocol (MCP)? | by Aditya Ak | Mar, 2025 | Medium', 'start_index': 761}, page_content='in AI integration. By providing a universal interface, it allows AI models to break free from their limitations and interact with external tools and data. With its flexible, secure, and scalable design, MCP makes it easier for developers'), Document(id='40dc8a6d-2f15-426f-8d08-e6e762a7c34a', metadata={'source': 'https://medium.com/@aakuskar.980/what-is-the-model-context-protocol-mcp-f6e287d62adc', 'title': 'What is the Model Context Protocol (MCP)? | by Aditya Ak | Mar, 2025 | Medium', 'start_index': 761}, page_content='in AI integration. By providing a universal interface, it allows AI models to break free from their limitations and interact with external tools and data. With its flexible, secure, and scalable design, MCP makes it easier for developers'), Document(id='e8823f4b-6b99-4b6f-b7e9-6087fdf3412c', metadata={'source': 'https://medium.com/@aakuskar.980/what-is-the-model-context-protocol-mcp-f6e287d62adc', 'title': 'What is the Model Context Protocol (MCP)? | by Aditya Ak | Mar, 2025 | Medium', 'start_index': 0}, page_content='Enables language models to use external tools, enhancing their functionality and applicability.How Does MCP Work?MCP operates on a client-server architecture:MCP Hosts: These are the AI applications or interfaces, such as IDEs, or AI tools, that seek to access data through MCP. They initiate'), Document(id='095f7dbc-3e67-4dc1-bf41-a4a4f848f450', metadata={'source': 'https://medium.com/@aakuskar.980/what-is-the-model-context-protocol-mcp-f6e287d62adc', 'title': 'What is the Model Context Protocol (MCP)? | by Aditya Ak | Mar, 2025 | Medium', 'start_index': 0}, page_content='Enables language models to use external tools, enhancing their functionality and applicability.How Does MCP Work?MCP operates on a client-server architecture:MCP Hosts: These are the AI applications or interfaces, such as IDEs, or AI tools, that seek to access data through MCP. They initiate')]}}\n",
            "\n",
            "----------------\n",
            "\n",
            "{'generate': {'answer': 'MCP (Model-Computer Protocol) is a system that allows AI models to interact with external tools and data through a universal interface.'}}\n",
            "\n",
            "----------------\n",
            "\n"
          ]
        }
      ]
    },
    {
      "cell_type": "code",
      "source": [
        "for message, metadata in graph.stream(\n",
        "    {\"question\": \"What is MCP?\"}, stream_mode=\"messages\"\n",
        "):\n",
        "    print(message.content, end=\"|\")"
      ],
      "metadata": {
        "colab": {
          "base_uri": "https://localhost:8080/"
        },
        "id": "vtecoYDKHQqr",
        "outputId": "602b2bac-27ff-4338-e8f0-2efa21105682"
      },
      "execution_count": null,
      "outputs": [
        {
          "output_type": "stream",
          "name": "stdout",
          "text": [
            "|M|CP| (|Model|-|agnostic| Communication| Protocol|)| is| a| universal| interface| that| enables| AI| models| to| interact| with| external| tools| and| data|,| breaking| free| from| their| limitations|.| It| operates| on| a| client|-server| architecture|,| allowing| AI| applications| or| interfaces| (|M|CP| Host|s|)| to| access| data| through| MCP|.| This| enhances| the| functionality| and| applic|ability| of| language| models|.||"
          ]
        }
      ]
    },
    {
      "cell_type": "markdown",
      "source": [
        "## Prompt Customizing\n"
      ],
      "metadata": {
        "id": "aUGD_al1HVoY"
      }
    },
    {
      "cell_type": "code",
      "source": [
        "from langchain_core.prompts import PromptTemplate\n",
        "\n",
        "template = \"\"\"Use the following pieces of context to answer the question at the end.\n",
        "If you don't know the answer, just say that you don't know, don't try to make up an answer.\n",
        "Use three sentences maximum and keep the answer as concise as possible.\n",
        "Always say \"thanks for asking!\" at the end of the answer.\n",
        "\n",
        "{context}\n",
        "\n",
        "Question: {question}\n",
        "\n",
        "Helpful Answer:\"\"\"\n",
        "custom_rag_prompt = PromptTemplate.from_template(template)"
      ],
      "metadata": {
        "id": "r6Fr5PD3LqTP"
      },
      "execution_count": null,
      "outputs": []
    },
    {
      "cell_type": "code",
      "source": [
        "total_documents = len(docs)\n",
        "third = total_documents // 3\n",
        "\n",
        "for i, document in enumerate(docs):\n",
        "    if i < third:\n",
        "        document.metadata[\"section\"] = \"beginning\"\n",
        "    elif i < 2 * third:\n",
        "        document.metadata[\"section\"] = \"middle\"\n",
        "    else:\n",
        "        document.metadata[\"section\"] = \"end\"\n",
        "\n",
        "\n",
        "docs[0].metadata"
      ],
      "metadata": {
        "colab": {
          "base_uri": "https://localhost:8080/"
        },
        "id": "loELvAm-LqP6",
        "outputId": "67276043-8f93-498e-f527-9ff2194c903e"
      },
      "execution_count": null,
      "outputs": [
        {
          "output_type": "execute_result",
          "data": {
            "text/plain": [
              "{'source': 'https://medium.com/@aakuskar.980/what-is-the-model-context-protocol-mcp-f6e287d62adc',\n",
              " 'title': 'What is the Model Context Protocol (MCP)? | by Aditya Ak | Mar, 2025 | Medium',\n",
              " 'start_index': 0,\n",
              " 'section': 'beginning'}"
            ]
          },
          "metadata": {},
          "execution_count": 60
        }
      ]
    },
    {
      "cell_type": "code",
      "source": [
        "from langchain_core.vectorstores import InMemoryVectorStore\n",
        "\n",
        "vector_store = InMemoryVectorStore(embeddings)\n",
        "_ = vector_store.add_documents(docs)"
      ],
      "metadata": {
        "id": "GtReJq7-LqNL"
      },
      "execution_count": null,
      "outputs": []
    },
    {
      "cell_type": "code",
      "source": [
        "from typing import Literal\n",
        "\n",
        "from typing_extensions import Annotated\n",
        "from pydantic import BaseModel, Field\n",
        "\n",
        "\n",
        "class Search(BaseModel):\n",
        "    \"\"\"Search query.\"\"\"\n",
        "\n",
        "    query: Annotated[str, Field(..., description=\"Search query to run.\")]\n",
        "    section: Annotated[\n",
        "        Literal[\"beginning\", \"middle\", \"end\"],\n",
        "        Field(..., description=\"Section to query.\"),\n",
        "    ]"
      ],
      "metadata": {
        "id": "JmhJ5Oq5LqKw"
      },
      "execution_count": null,
      "outputs": []
    },
    {
      "cell_type": "code",
      "source": [
        "class State(TypedDict):\n",
        "    question: str\n",
        "    query: Search\n",
        "    context: List[Document]\n",
        "    answer: str\n",
        "\n",
        "\n",
        "def analyze_query(state: State):\n",
        "    structured_llm = llm.with_structured_output(Search)\n",
        "    query = structured_llm.invoke(state[\"question\"])\n",
        "    return {\"query\": query}\n",
        "\n",
        "\n",
        "def retrieve(state: State):\n",
        "    query = state[\"query\"]\n",
        "    retrieved_docs = vector_store.similarity_search(\n",
        "        query.query,  # Access the query attribute using dot notation\n",
        "        filter=lambda doc: doc.metadata.get(\"section\") == query.section,  # Access the section attribute using dot notation\n",
        "    )\n",
        "    return {\"context\": retrieved_docs}\n",
        "\n",
        "\n",
        "def generate(state: State):\n",
        "    docs_content = \"\\n\\n\".join(doc.page_content for doc in state[\"context\"])\n",
        "    messages = prompt.invoke({\"question\": state[\"question\"], \"context\": docs_content})\n",
        "    response = llm.invoke(messages)\n",
        "    return {\"answer\": response.content}\n",
        "\n",
        "\n",
        "graph_builder = StateGraph(State).add_sequence([analyze_query, retrieve, generate])\n",
        "graph_builder.add_edge(START, \"analyze_query\")\n",
        "graph = graph_builder.compile()"
      ],
      "metadata": {
        "id": "PZJp1DPWLqH9"
      },
      "execution_count": null,
      "outputs": []
    },
    {
      "cell_type": "code",
      "source": [
        "display(Image(graph.get_graph().draw_mermaid_png()))"
      ],
      "metadata": {
        "colab": {
          "base_uri": "https://localhost:8080/",
          "height": 449
        },
        "id": "BkdyBHW4LqFb",
        "outputId": "9a02d201-ceb9-42da-f7cb-fbff835f96be"
      },
      "execution_count": null,
      "outputs": [
        {
          "output_type": "display_data",
          "data": {
            "image/png": "[encoded data removed]",
            "text/plain": [
              "<IPython.core.display.Image object>"
            ]
          },
          "metadata": {}
        }
      ]
    },
    {
      "cell_type": "code",
      "source": [
        "for step in graph.stream(\n",
        "    {\"question\": \"What does the end of the post say about MCP?\"},\n",
        "    stream_mode=\"updates\",\n",
        "):\n",
        "    print(f\"{step}\\n\\n----------------\\n\")"
      ],
      "metadata": {
        "colab": {
          "base_uri": "https://localhost:8080/"
        },
        "id": "yfdupEDpMW28",
        "outputId": "0aa213c3-311d-4f3a-c98c-12bef02c9184"
      },
      "execution_count": null,
      "outputs": [
        {
          "output_type": "stream",
          "name": "stdout",
          "text": [
            "{'analyze_query': {'query': Search(query='What does the end of the post say about MCP?', section='middle')}}\n",
            "\n",
            "----------------\n",
            "\n",
            "{'retrieve': {'context': [Document(id='191a858e-e417-4332-b829-b16993388a84', metadata={'source': 'https://medium.com/@aakuskar.980/what-is-the-model-context-protocol-mcp-f6e287d62adc', 'title': 'What is the Model Context Protocol (MCP)? | by Aditya Ak | Mar, 2025 | Medium', 'start_index': 0, 'section': 'middle'}, page_content='Enables language models to use external tools, enhancing their functionality and applicability.How Does MCP Work?MCP operates on a client-server architecture:MCP Hosts: These are the AI applications or interfaces, such as IDEs, or AI tools, that seek to access data through MCP. They initiate'), Document(id='eea362c8-e4cd-4500-a34c-c784bb3b7c67', metadata={'source': 'https://medium.com/@aakuskar.980/what-is-the-model-context-protocol-mcp-f6e287d62adc', 'title': 'What is the Model Context Protocol (MCP)? | by Aditya Ak | Mar, 2025 | Medium', 'start_index': 502, 'section': 'middle'}, page_content='programs that expose specific capabilities through the MCP, connecting to local or remote data sources. Examples include servers for file systems, databases, or APIs, each advertising their capabilities for hosts to utilize.Local Data Sources: These include the computer’s files, databases, and'), Document(id='588b2f6a-4eb1-4823-8644-c43449ddd54f', metadata={'source': 'https://medium.com/@aakuskar.980/what-is-the-model-context-protocol-mcp-f6e287d62adc', 'title': 'What is the Model Context Protocol (MCP)? | by Aditya Ak | Mar, 2025 | Medium', 'start_index': 246, 'section': 'middle'}, page_content='seek to access data through MCP. They initiate requests for data or actions.MCP Clients: These are protocol clients that maintain a one-to-one connection with MCP servers, acting as intermediaries to forward requests and responses.MCP Servers: Lightweight programs that expose specific capabilities'), Document(id='25a6c7e3-132b-425d-a365-773a697a0384', metadata={'source': 'https://medium.com/@aakuskar.980/what-is-the-model-context-protocol-mcp-f6e287d62adc', 'title': 'What is the Model Context Protocol (MCP)? | by Aditya Ak | Mar, 2025 | Medium', 'start_index': 0, 'section': 'middle'}, page_content='over the internet, such as APIs, that MCP servers can connect to, enabling AI to interact with cloud-based tools or services.Use Case: Integrating Claude AI with MCPOne of the coolest aspects of MCP is how it can be combined with existing AI tools, like Claude from Anthropic, to create more powerful')]}}\n",
            "\n",
            "----------------\n",
            "\n",
            "{'generate': {'answer': 'The end of the post mentions that one of the cool aspects of MCP is how it can be combined with existing AI tools, like Claude from Anthropic, to create more powerful integrations. This is showcased in a use case that integrates Claude AI with MCP. This integration enables more powerful functionality between the two tools.'}}\n",
            "\n",
            "----------------\n",
            "\n"
          ]
        }
      ]
    },
    {
      "cell_type": "code",
      "source": [],
      "metadata": {
        "id": "YwtN_OerMazG"
      },
      "execution_count": null,
      "outputs": []
    }
  ]
}
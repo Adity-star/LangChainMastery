{
  "nbformat": 4,
  "nbformat_minor": 0,
  "metadata": {
    "colab": {
      "provenance": []
    },
    "kernelspec": {
      "name": "python3",
      "display_name": "Python 3"
    },
    "language_info": {
      "name": "python"
    }
  },
  "cells": [
    {
      "cell_type": "markdown",
      "source": [
        "# Document Loader\n",
        "Document Loader is a class that loads Documents from various sources.\n",
        "\n",
        "Listed below are some examples of Document Loaders.\n",
        "\n",
        "- PyPDFLoader: Loads PDF files\n",
        "- CSVLoader: Loads CSV files\n",
        "- UnstructuredHTMLLoader: Loads HTML files\n",
        "- JSONLoader: Loads JSON files\n",
        "- TextLoader: Loads text files\n",
        "- DirectoryLoader: Loads documents from a directory"
      ],
      "metadata": {
        "id": "MBbA2k_-DFZ6"
      }
    },
    {
      "cell_type": "code",
      "execution_count": null,
      "metadata": {
        "id": "UldSIwZUCSuT"
      },
      "outputs": [],
      "source": [
        "!pip install langchain langchain_community pypdf"
      ]
    },
    {
      "cell_type": "code",
      "source": [
        "!pip install pypdf"
      ],
      "metadata": {
        "colab": {
          "base_uri": "https://localhost:8080/"
        },
        "id": "368NRQ4gD0le",
        "outputId": "cd97e321-59ca-456d-d210-79b9a54db404"
      },
      "execution_count": 7,
      "outputs": [
        {
          "output_type": "stream",
          "name": "stdout",
          "text": [
            "Collecting pypdf\n",
            "  Downloading pypdf-5.5.0-py3-none-any.whl.metadata (7.2 kB)\n",
            "Downloading pypdf-5.5.0-py3-none-any.whl (303 kB)\n",
            "\u001b[?25l   \u001b[90m━━━━━━━━━━━━━━━━━━━━━━━━━━━━━━━━━━━━━━━━\u001b[0m \u001b[32m0.0/303.4 kB\u001b[0m \u001b[31m?\u001b[0m eta \u001b[36m-:--:--\u001b[0m\r\u001b[2K   \u001b[91m━━━━━━━━━━━━━━\u001b[0m\u001b[91m╸\u001b[0m\u001b[90m━━━━━━━━━━━━━━━━━━━━━━━━━\u001b[0m \u001b[32m112.6/303.4 kB\u001b[0m \u001b[31m3.1 MB/s\u001b[0m eta \u001b[36m0:00:01\u001b[0m\r\u001b[2K   \u001b[90m━━━━━━━━━━━━━━━━━━━━━━━━━━━━━━━━━━━━━━━━\u001b[0m \u001b[32m303.4/303.4 kB\u001b[0m \u001b[31m4.7 MB/s\u001b[0m eta \u001b[36m0:00:00\u001b[0m\n",
            "\u001b[?25hInstalling collected packages: pypdf\n",
            "Successfully installed pypdf-5.5.0\n"
          ]
        }
      ]
    },
    {
      "cell_type": "code",
      "source": [
        "from langchain_core.documents import Document\n",
        "\n",
        "document = Document(page_content=\"this is my document\")\n",
        "\n",
        "document.__dict__"
      ],
      "metadata": {
        "colab": {
          "base_uri": "https://localhost:8080/"
        },
        "id": "McDCmBpqCfb_",
        "outputId": "83cea1c0-ed25-4e1e-a085-56282cd7c869"
      },
      "execution_count": 2,
      "outputs": [
        {
          "output_type": "execute_result",
          "data": {
            "text/plain": [
              "{'id': None,\n",
              " 'metadata': {},\n",
              " 'page_content': 'this is my document',\n",
              " 'type': 'Document'}"
            ]
          },
          "metadata": {},
          "execution_count": 2
        }
      ]
    },
    {
      "cell_type": "code",
      "source": [
        "document.metadata['source'] = \"conyent/file.pdf\"\n",
        "document.metadata['page']= 0\n",
        "\n",
        "document.metadata"
      ],
      "metadata": {
        "colab": {
          "base_uri": "https://localhost:8080/"
        },
        "id": "TQTKgla_Cvke",
        "outputId": "f4a7fadd-d10c-4162-96b9-b9ea6951d994"
      },
      "execution_count": 4,
      "outputs": [
        {
          "output_type": "execute_result",
          "data": {
            "text/plain": [
              "{'source': 'conyent/file.pdf', 'page': 0}"
            ]
          },
          "metadata": {},
          "execution_count": 4
        }
      ]
    },
    {
      "cell_type": "markdown",
      "source": [
        "## 1. load()"
      ],
      "metadata": {
        "id": "TdFMEf0ZD_Xi"
      }
    },
    {
      "cell_type": "code",
      "source": [
        "from langchain_community.document_loaders import PyPDFLoader\n",
        "\n",
        "loader =  PyPDFLoader(\"/content/MIASDB Excerpta Medica 1994.pdf\")"
      ],
      "metadata": {
        "id": "10ksPdmfC-Wm"
      },
      "execution_count": 5,
      "outputs": []
    },
    {
      "cell_type": "code",
      "source": [
        "# Load Documents\n",
        "docs = loader.load()\n",
        "\n",
        "len(docs)"
      ],
      "metadata": {
        "colab": {
          "base_uri": "https://localhost:8080/"
        },
        "id": "rzFOe-_cDtOP",
        "outputId": "ddcf4555-9792-492c-95ca-b503b563312d"
      },
      "execution_count": 8,
      "outputs": [
        {
          "output_type": "execute_result",
          "data": {
            "text/plain": [
              "5"
            ]
          },
          "metadata": {},
          "execution_count": 8
        }
      ]
    },
    {
      "cell_type": "code",
      "source": [
        "# Check Documents\n",
        "docs[0:10]"
      ],
      "metadata": {
        "colab": {
          "base_uri": "https://localhost:8080/"
        },
        "id": "OUHOqCmVDwn-",
        "outputId": "aefc5af6-caca-464b-f45f-457243c64648"
      },
      "execution_count": 9,
      "outputs": [
        {
          "output_type": "execute_result",
          "data": {
            "text/plain": [
              "[Document(metadata={'producer': 'Qt 5.3.0', 'creator': '', 'creationdate': '2015-08-24T13:30:22+00:00', 'moddate': '2015-08-25T13:22:46+01:00', 'title': '', 'rgid': 'PB:243788073_AS:104388743925772@1401899624762', 'source': '/content/MIASDB Excerpta Medica 1994.pdf', 'total_pages': 5, 'page': 0, 'page_label': '1'}, page_content='See\\tdiscussions,\\tstats,\\tand\\tauthor\\tprofiles\\tfor\\tthis\\tpublication\\tat:\\t\\nhttp://www.researchgate.net/publication/243788073\\nThe\\tmammographic\\timage\\tanalysis\\tsociety\\ndigital\\tmammogram\\tdatabase.\\tExerpta\\tMedica\\nARTICLE\\n\\t·\\tJANUARY\\t1994\\nCITATIONS\\n170\\n3\\tAUTHORS\\n,\\tINCLUDING:\\nJohn\\tSuckling\\nUniversity\\tof\\tCambridge\\n264\\n\\t\\nPUBLICATIONS\\n\\t\\t\\t\\n14,688\\n\\t\\nCITATIONS\\n\\t\\t\\t\\nSEE\\tPROFILE\\nAvailable\\tfrom:\\tJohn\\tSuckling\\nRetrieved\\ton:\\t24\\tAugust\\t2015'),\n",
              " Document(metadata={'producer': 'Qt 5.3.0', 'creator': '', 'creationdate': '2015-08-24T13:30:22+00:00', 'moddate': '2015-08-25T13:22:46+01:00', 'title': '', 'rgid': 'PB:243788073_AS:104388743925772@1401899624762', 'source': '/content/MIASDB Excerpta Medica 1994.pdf', 'total_pages': 5, 'page': 1, 'page_label': '2'}, page_content=''),\n",
              " Document(metadata={'producer': 'Qt 5.3.0', 'creator': '', 'creationdate': '2015-08-24T13:30:22+00:00', 'moddate': '2015-08-25T13:22:46+01:00', 'title': '', 'rgid': 'PB:243788073_AS:104388743925772@1401899624762', 'source': '/content/MIASDB Excerpta Medica 1994.pdf', 'total_pages': 5, 'page': 2, 'page_label': '3'}, page_content=''),\n",
              " Document(metadata={'producer': 'Qt 5.3.0', 'creator': '', 'creationdate': '2015-08-24T13:30:22+00:00', 'moddate': '2015-08-25T13:22:46+01:00', 'title': '', 'rgid': 'PB:243788073_AS:104388743925772@1401899624762', 'source': '/content/MIASDB Excerpta Medica 1994.pdf', 'total_pages': 5, 'page': 3, 'page_label': '4'}, page_content=''),\n",
              " Document(metadata={'producer': 'Qt 5.3.0', 'creator': '', 'creationdate': '2015-08-24T13:30:22+00:00', 'moddate': '2015-08-25T13:22:46+01:00', 'title': '', 'rgid': 'PB:243788073_AS:104388743925772@1401899624762', 'source': '/content/MIASDB Excerpta Medica 1994.pdf', 'total_pages': 5, 'page': 4, 'page_label': '5'}, page_content='')]"
            ]
          },
          "metadata": {},
          "execution_count": 9
        }
      ]
    },
    {
      "cell_type": "markdown",
      "source": [
        "## 2. aload()\n",
        "- Asynchronously loads Documents and returns them as a list[Document]."
      ],
      "metadata": {
        "id": "ejDkrUGhD53S"
      }
    },
    {
      "cell_type": "code",
      "source": [
        "# Load Documents asynchronously\n",
        "docs = await loader.aload()"
      ],
      "metadata": {
        "id": "wU-ZSjfgEOmz"
      },
      "execution_count": 10,
      "outputs": []
    },
    {
      "cell_type": "markdown",
      "source": [
        "## 3. load_and_split()\n",
        "- Loads Documents and automatically splits them into chunks using TextSplitter , and returns them as a list[Document]."
      ],
      "metadata": {
        "id": "kZCB6N_eEPBb"
      }
    },
    {
      "cell_type": "code",
      "source": [
        "from langchain_text_splitters import RecursiveCharacterTextSplitter\n",
        "\n",
        "text_splitter = RecursiveCharacterTextSplitter(chunk_size=128, chunk_overlap=0)\n",
        "\n",
        "docs = loader.load_and_split(text_splitter)"
      ],
      "metadata": {
        "id": "znwGWtiFETp3"
      },
      "execution_count": 11,
      "outputs": []
    },
    {
      "cell_type": "code",
      "source": [
        "len(docs)"
      ],
      "metadata": {
        "colab": {
          "base_uri": "https://localhost:8080/"
        },
        "id": "aYHtnblAETmw",
        "outputId": "83ac8db0-3211-46b4-a0d0-f012a28aaad6"
      },
      "execution_count": 12,
      "outputs": [
        {
          "output_type": "execute_result",
          "data": {
            "text/plain": [
              "4"
            ]
          },
          "metadata": {},
          "execution_count": 12
        }
      ]
    },
    {
      "cell_type": "code",
      "source": [
        "docs[0:10]"
      ],
      "metadata": {
        "colab": {
          "base_uri": "https://localhost:8080/"
        },
        "id": "M4uRlGm4ETkM",
        "outputId": "8ac08c59-746a-4e32-c289-e77fd389807a"
      },
      "execution_count": 13,
      "outputs": [
        {
          "output_type": "execute_result",
          "data": {
            "text/plain": [
              "[Document(metadata={'producer': 'Qt 5.3.0', 'creator': '', 'creationdate': '2015-08-24T13:30:22+00:00', 'moddate': '2015-08-25T13:22:46+01:00', 'title': '', 'rgid': 'PB:243788073_AS:104388743925772@1401899624762', 'source': '/content/MIASDB Excerpta Medica 1994.pdf', 'total_pages': 5, 'page': 0, 'page_label': '1'}, page_content='See\\tdiscussions,\\tstats,\\tand\\tauthor\\tprofiles\\tfor\\tthis\\tpublication\\tat:\\t\\nhttp://www.researchgate.net/publication/243788073'),\n",
              " Document(metadata={'producer': 'Qt 5.3.0', 'creator': '', 'creationdate': '2015-08-24T13:30:22+00:00', 'moddate': '2015-08-25T13:22:46+01:00', 'title': '', 'rgid': 'PB:243788073_AS:104388743925772@1401899624762', 'source': '/content/MIASDB Excerpta Medica 1994.pdf', 'total_pages': 5, 'page': 0, 'page_label': '1'}, page_content='The\\tmammographic\\timage\\tanalysis\\tsociety\\ndigital\\tmammogram\\tdatabase.\\tExerpta\\tMedica\\nARTICLE\\n\\t·\\tJANUARY\\t1994\\nCITATIONS\\n170'),\n",
              " Document(metadata={'producer': 'Qt 5.3.0', 'creator': '', 'creationdate': '2015-08-24T13:30:22+00:00', 'moddate': '2015-08-25T13:22:46+01:00', 'title': '', 'rgid': 'PB:243788073_AS:104388743925772@1401899624762', 'source': '/content/MIASDB Excerpta Medica 1994.pdf', 'total_pages': 5, 'page': 0, 'page_label': '1'}, page_content='3\\tAUTHORS\\n,\\tINCLUDING:\\nJohn\\tSuckling\\nUniversity\\tof\\tCambridge\\n264\\n\\t\\nPUBLICATIONS\\n\\t\\t\\t\\n14,688\\n\\t\\nCITATIONS\\n\\t\\t\\t\\nSEE\\tPROFILE'),\n",
              " Document(metadata={'producer': 'Qt 5.3.0', 'creator': '', 'creationdate': '2015-08-24T13:30:22+00:00', 'moddate': '2015-08-25T13:22:46+01:00', 'title': '', 'rgid': 'PB:243788073_AS:104388743925772@1401899624762', 'source': '/content/MIASDB Excerpta Medica 1994.pdf', 'total_pages': 5, 'page': 0, 'page_label': '1'}, page_content='Available\\tfrom:\\tJohn\\tSuckling\\nRetrieved\\ton:\\t24\\tAugust\\t2015')]"
            ]
          },
          "metadata": {},
          "execution_count": 13
        }
      ]
    },
    {
      "cell_type": "markdown",
      "source": [
        "## 4. lazy_load()\n",
        "- Loads Documents sequentially and returns them as an Iterator[Document]."
      ],
      "metadata": {
        "id": "Bq-g0QChETiI"
      }
    },
    {
      "cell_type": "code",
      "source": [
        "loader.lazy_load()"
      ],
      "metadata": {
        "colab": {
          "base_uri": "https://localhost:8080/"
        },
        "id": "UVmP80G-ETfj",
        "outputId": "6573cdcc-4fef-4a23-92fa-b9f157416df5"
      },
      "execution_count": 14,
      "outputs": [
        {
          "output_type": "execute_result",
          "data": {
            "text/plain": [
              "<generator object PyPDFLoader.lazy_load at 0x790f819e8e50>"
            ]
          },
          "metadata": {},
          "execution_count": 14
        }
      ]
    },
    {
      "cell_type": "code",
      "source": [
        "# Load Documents sequentially\n",
        "docs = loader.lazy_load()\n",
        "for doc in docs:\n",
        "    print(doc.metadata)\n",
        "    break  # Used to limit the output length"
      ],
      "metadata": {
        "colab": {
          "base_uri": "https://localhost:8080/"
        },
        "id": "G7BEQW2REvSP",
        "outputId": "3d41e3b9-9cbd-4237-996f-5475eebac180"
      },
      "execution_count": 15,
      "outputs": [
        {
          "output_type": "stream",
          "name": "stdout",
          "text": [
            "{'producer': 'Qt 5.3.0', 'creator': '', 'creationdate': '2015-08-24T13:30:22+00:00', 'moddate': '2015-08-25T13:22:46+01:00', 'title': '', 'rgid': 'PB:243788073_AS:104388743925772@1401899624762', 'source': '/content/MIASDB Excerpta Medica 1994.pdf', 'total_pages': 5, 'page': 0, 'page_label': '1'}\n"
          ]
        }
      ]
    },
    {
      "cell_type": "markdown",
      "source": [
        "## 5. alazy_load()\n",
        "- Asynchronously loads Documents sequentially and returns them as an AsyncIterator[Document]"
      ],
      "metadata": {
        "id": "0JYXIafzExhW"
      }
    },
    {
      "cell_type": "code",
      "source": [
        "loader.alazy_load()\n",
        "\n",
        "# Load Documents asynchronously and sequentially\n",
        "docs = loader.alazy_load()\n",
        "async for doc in docs:\n",
        "    print(doc.metadata)\n",
        "    break  # Used to limit the output length"
      ],
      "metadata": {
        "colab": {
          "base_uri": "https://localhost:8080/"
        },
        "id": "n6GZif7iE35h",
        "outputId": "6d83ba23-9d8f-41d0-a7f8-8c26b3f1d5da"
      },
      "execution_count": 16,
      "outputs": [
        {
          "output_type": "stream",
          "name": "stdout",
          "text": [
            "{'producer': 'Qt 5.3.0', 'creator': '', 'creationdate': '2015-08-24T13:30:22+00:00', 'moddate': '2015-08-25T13:22:46+01:00', 'title': '', 'rgid': 'PB:243788073_AS:104388743925772@1401899624762', 'source': '/content/MIASDB Excerpta Medica 1994.pdf', 'total_pages': 5, 'page': 0, 'page_label': '1'}\n"
          ]
        }
      ]
    },
    {
      "cell_type": "code",
      "source": [],
      "metadata": {
        "id": "1C_erp0sE6I2"
      },
      "execution_count": null,
      "outputs": []
    }
  ]
}
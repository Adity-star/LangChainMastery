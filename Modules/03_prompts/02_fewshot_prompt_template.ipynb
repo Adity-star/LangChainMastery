{
  "nbformat": 4,
  "nbformat_minor": 0,
  "metadata": {
    "colab": {
      "provenance": []
    },
    "kernelspec": {
      "name": "python3",
      "display_name": "Python 3"
    },
    "language_info": {
      "name": "python"
    }
  },
  "cells": [
    {
      "cell_type": "markdown",
      "source": [
        "# Few-Shot Templates\n",
        "## Overview\n",
        "\n",
        "In this notebook, we dive into **Few-Shot Prompting**, a powerful technique that allows language models to generate high-quality outputs with minimal fine-tuning. By providing carefully selected examples, Few-Shot Prompting ensures precise and context-aware responses across a variety of use cases.\n",
        "## What is Few-Shot Prompting?\n",
        "\n",
        "**Few-Shot Prompting** is a technique that guides language models to generate high-quality responses by providing a small number of carefully chosen examples. Unlike traditional methods, which may require extensive fine-tuning, few-shot prompting leverages the model’s inherent ability to generalize from examples.\n",
        "\n",
        "### Key Concepts:\n",
        "- **Example-Driven**: Few-shot prompting relies on providing a few relevant examples within the prompt.\n",
        "- **Context-Aware**: The provided examples help the model understand the desired context, making it more likely to generate accurate and context-sensitive outputs.\n",
        "- **Reduced Fine-Tuning**: This approach minimizes the need for expensive and time-consuming fine-tuning of the model.\n"
      ],
      "metadata": {
        "id": "IpYHORofMFGV"
      }
    },
    {
      "cell_type": "code",
      "source": [
        "%%capture --no-stderr\n",
        "%pip install langchain_community langchain langchain_nvidia_ai_endpoints langchain-chroma"
      ],
      "metadata": {
        "id": "b4_B_GZ7Mgcb"
      },
      "execution_count": 1,
      "outputs": []
    },
    {
      "cell_type": "code",
      "source": [
        "import getpass\n",
        "import os\n",
        "\n",
        "# Set up your api key\n",
        "if not os.environ.get(\"NVIDIA_API_KEY\"):\n",
        "  os.environ[\"NVIDIA_API_KEY\"] = getpass.getpass(\"Enter API key for NVIDIA: \")"
      ],
      "metadata": {
        "colab": {
          "base_uri": "https://localhost:8080/"
        },
        "id": "T9mJrt8UMgZB",
        "outputId": "a9928a58-dd55-426e-c2f5-05620e718de4"
      },
      "execution_count": 2,
      "outputs": [
        {
          "name": "stdout",
          "output_type": "stream",
          "text": [
            "Enter API key for NVIDIA: ··········\n"
          ]
        }
      ]
    },
    {
      "cell_type": "code",
      "source": [
        "from langchain.chat_models import init_chat_model\n",
        "from langchain_nvidia_ai_endpoints import NVIDIAEmbeddings\n",
        "\n",
        "# Select the chat model\n",
        "llm = init_chat_model('meta/llama-3.1-70b-instruct', model_provider = 'nvidia')\n",
        "\n",
        "# Select the embedding model\n",
        "embeddings = NVIDIAEmbeddings(model='NV-Embed-QA')\n",
        "\n",
        "response = llm.predict(\"Hello, how are you?\")\n",
        "print(response)"
      ],
      "metadata": {
        "colab": {
          "base_uri": "https://localhost:8080/"
        },
        "id": "JlnqIi3fMgVm",
        "outputId": "1e634595-ba0d-450a-c6c3-815fe908dd72"
      },
      "execution_count": 3,
      "outputs": [
        {
          "output_type": "stream",
          "name": "stderr",
          "text": [
            "<ipython-input-3-75c92557114f>:10: LangChainDeprecationWarning: The method `BaseChatModel.predict` was deprecated in langchain-core 0.1.7 and will be removed in 1.0. Use :meth:`~invoke` instead.\n",
            "  response = llm.predict(\"Hello, how are you?\")\n"
          ]
        },
        {
          "output_type": "stream",
          "name": "stdout",
          "text": [
            "Hello! I'm just a language model, so I don't have feelings or emotions like humans do, but I'm functioning properly and ready to chat with you! How can I assist you today?\n"
          ]
        }
      ]
    },
    {
      "cell_type": "code",
      "source": [
        "from langchain_core.prompts import FewShotPromptTemplate, PromptTemplate\n",
        "\n",
        "prompt = PromptTemplate.from_template(\"Question: {question}\\n{answer}\")\n",
        "\n",
        "\n",
        "few_shot_prompt = [\n",
        "    {\n",
        "    \"question\": \"Did Leonardo da Vinci and Isaac Newton live in the same century?\",\n",
        "    \"answer\": \"\"\"\n",
        "Are follow up questions needed here: Yes.\n",
        "Follow up: When was Leonardo da Vinci born and when did he die?\n",
        "Intermediate answer: Leonardo da Vinci was born in 1452 and died in 1519.\n",
        "Follow up: When was Isaac Newton born and when did he die?\n",
        "Intermediate answer: Isaac Newton was born in 1643 and died in 1727.\n",
        "So the final answer is: No\n",
        "\"\"\"\n",
        "},\n",
        "    {\n",
        "    \"question\": \"Who has more Grammy Awards, Taylor Swift or Beyoncé?\",\n",
        "    \"answer\": \"\"\"\n",
        "Are follow up questions needed here: Yes.\n",
        "Follow up: How many Grammy Awards has Taylor Swift won?\n",
        "Intermediate answer: Taylor Swift has won 14 Grammy Awards (as of 2024).\n",
        "Follow up: How many Grammy Awards has Beyoncé won?\n",
        "Intermediate answer: Beyoncé has won 32 Grammy Awards (as of 2024).\n",
        "So the final answer is: Beyoncé\n",
        "\"\"\"\n",
        "},\n",
        "{\n",
        "    \"question\": \"Which came first, the invention of the telephone or the light bulb?\",\n",
        "    \"answer\": \"\"\"\n",
        "Are follow up questions needed here: Yes.\n",
        "Follow up: When was the telephone invented?\n",
        "Intermediate answer: The telephone was invented by Alexander Graham Bell in 1876.\n",
        "Follow up: When was the light bulb invented?\n",
        "Intermediate answer: Thomas Edison developed a practical incandescent light bulb in 1879.\n",
        "So the final answer is: The telephone\n",
        "\"\"\"\n",
        "},\n",
        "{\n",
        "    \"question\": \"Was the capital of Brazil always Brasília?\",\n",
        "    \"answer\": \"\"\"\n",
        "Are follow up questions needed here: Yes.\n",
        "Follow up: What is the current capital of Brazil?\n",
        "Intermediate answer: The current capital of Brazil is Brasília.\n",
        "Follow up: Was there a different capital before Brasília?\n",
        "Intermediate answer: Yes, the capital was Rio de Janeiro before Brasília became the capital in 1960.\n",
        "So the final answer is: No\n",
        "\"\"\"\n",
        "}\n",
        "]\n"
      ],
      "metadata": {
        "id": "IoFnGrSwMgTB"
      },
      "execution_count": 4,
      "outputs": []
    },
    {
      "cell_type": "code",
      "source": [
        "print(prompt.invoke(few_shot_prompt[0]).to_string())"
      ],
      "metadata": {
        "colab": {
          "base_uri": "https://localhost:8080/"
        },
        "id": "Nao_r21RMgQ2",
        "outputId": "13033924-7ce1-4a63-ee11-f6ee4f3ea1e3"
      },
      "execution_count": 5,
      "outputs": [
        {
          "output_type": "stream",
          "name": "stdout",
          "text": [
            "Question: Did Leonardo da Vinci and Isaac Newton live in the same century?\n",
            "\n",
            "Are follow up questions needed here: Yes.\n",
            "Follow up: When was Leonardo da Vinci born and when did he die?\n",
            "Intermediate answer: Leonardo da Vinci was born in 1452 and died in 1519.\n",
            "Follow up: When was Isaac Newton born and when did he die?\n",
            "Intermediate answer: Isaac Newton was born in 1643 and died in 1727.\n",
            "So the final answer is: No\n",
            "\n"
          ]
        }
      ]
    },
    {
      "cell_type": "code",
      "source": [
        "# PAssing the prompt to FEwPromptTemplate\n",
        "few_shot_prompt_template = FewShotPromptTemplate(\n",
        "    examples=few_shot_prompt,\n",
        "    example_prompt=prompt,\n",
        "    suffix=\"Question:\\n{question}\\nAnswer:\",\n",
        "    input_variables=[\"question\"],\n",
        "    example_separator=\"\\n\\n\"\n",
        ")\n",
        "\n",
        "# Change 'input' to 'question' in the invoke call\n",
        "print(few_shot_prompt_template.invoke({'question': 'when did the dinousors go extinct?'}).to_string())"
      ],
      "metadata": {
        "colab": {
          "base_uri": "https://localhost:8080/"
        },
        "id": "LFPTGdJ-MgOg",
        "outputId": "5cbf2944-5822-4575-d7b7-f317ebf75161"
      },
      "execution_count": 6,
      "outputs": [
        {
          "output_type": "stream",
          "name": "stdout",
          "text": [
            "Question: Did Leonardo da Vinci and Isaac Newton live in the same century?\n",
            "\n",
            "Are follow up questions needed here: Yes.\n",
            "Follow up: When was Leonardo da Vinci born and when did he die?\n",
            "Intermediate answer: Leonardo da Vinci was born in 1452 and died in 1519.\n",
            "Follow up: When was Isaac Newton born and when did he die?\n",
            "Intermediate answer: Isaac Newton was born in 1643 and died in 1727.\n",
            "So the final answer is: No\n",
            "\n",
            "\n",
            "Question: Who has more Grammy Awards, Taylor Swift or Beyoncé?\n",
            "\n",
            "Are follow up questions needed here: Yes.\n",
            "Follow up: How many Grammy Awards has Taylor Swift won?\n",
            "Intermediate answer: Taylor Swift has won 14 Grammy Awards (as of 2024).\n",
            "Follow up: How many Grammy Awards has Beyoncé won?\n",
            "Intermediate answer: Beyoncé has won 32 Grammy Awards (as of 2024).\n",
            "So the final answer is: Beyoncé\n",
            "\n",
            "\n",
            "Question: Which came first, the invention of the telephone or the light bulb?\n",
            "\n",
            "Are follow up questions needed here: Yes.\n",
            "Follow up: When was the telephone invented?\n",
            "Intermediate answer: The telephone was invented by Alexander Graham Bell in 1876.\n",
            "Follow up: When was the light bulb invented?\n",
            "Intermediate answer: Thomas Edison developed a practical incandescent light bulb in 1879.\n",
            "So the final answer is: The telephone\n",
            "\n",
            "\n",
            "Question: Was the capital of Brazil always Brasília?\n",
            "\n",
            "Are follow up questions needed here: Yes.\n",
            "Follow up: What is the current capital of Brazil?\n",
            "Intermediate answer: The current capital of Brazil is Brasília.\n",
            "Follow up: Was there a different capital before Brasília?\n",
            "Intermediate answer: Yes, the capital was Rio de Janeiro before Brasília became the capital in 1960.\n",
            "So the final answer is: No\n",
            "\n",
            "\n",
            "Question:\n",
            "when did the dinousors go extinct?\n",
            "Answer:\n"
          ]
        }
      ]
    },
    {
      "cell_type": "code",
      "source": [
        "respnse = llm.predict(few_shot_prompt_template.invoke({'question': 'when did the dinousors go extinct?'}).to_string())\n",
        "print(respnse)"
      ],
      "metadata": {
        "colab": {
          "base_uri": "https://localhost:8080/"
        },
        "id": "9nDUHIzHMgLr",
        "outputId": "5f78c451-d267-49ab-bd12-d0e67e6ca287"
      },
      "execution_count": 7,
      "outputs": [
        {
          "output_type": "stream",
          "name": "stdout",
          "text": [
            "It seems like you're asking a question that requires additional information, just like the previous questions.\n",
            "\n",
            "Let's go through it:\n",
            "\n",
            "Are follow-up questions needed here: Yes.\n",
            "\n",
            "Follow up: What is the scientifically accepted time period of the dinosaurs' extinction?\n",
            "Intermediate answer: According to paleontologists, dinosaurs went extinct at the end of the Cretaceous period, about 65 million years ago.\n",
            "\n",
            "Follow up: What event is believed to have caused the mass extinction of dinosaurs?\n",
            "Intermediate answer: A massive asteroid impact, combined with other factors like intense volcanic activity and a dramatic change in the Earth's climate, is thought to have led to the extinction of the dinosaurs.\n",
            "\n",
            "So the final answer is: About 65 million years ago.\n"
          ]
        }
      ]
    },
    {
      "cell_type": "markdown",
      "source": [
        "## 2. Dynamic Example Selector\n",
        "- Embed your examples.\n",
        "- Store them in Chroma.\n",
        "- Dynamically select the top-k most similar examples for each new question.\n",
        "- Format the full prompt with helpful context for better LLM reasoning.\n",
        "\n",
        " breaking down complex questions into intermediate reasoning steps enhances response quality, and using semantic similarity with a vector store like Chroma is a great way to support that dynamically"
      ],
      "metadata": {
        "id": "wETMr9GgMgJX"
      }
    },
    {
      "cell_type": "code",
      "source": [
        "from langchain_chroma import Chroma\n",
        "from langchain_core.prompts.few_shot import FewShotPromptTemplate\n",
        "from langchain_core.example_selectors import SemanticSimilarityExampleSelector\n",
        "from langchain_nvidia_ai_endpoints import NVIDIAEmbeddings\n",
        "\n",
        "\n",
        "embeddings = NVIDIAEmbeddings()\n",
        "\n",
        "chroma = Chroma(persist_directory=\"example_selector\", embedding_function=embeddings)\n",
        "\n",
        "few_shot_prompt = [\n",
        "    {\n",
        "    \"question\": \"Did Leonardo da Vinci and Isaac Newton live in the same century?\",\n",
        "    \"answer\": \"\"\"\n",
        "Are follow up questions needed here: Yes.\n",
        "Follow up: When was Leonardo da Vinci born and when did he die?\n",
        "Intermediate answer: Leonardo da Vinci was born in 1452 and died in 1519.\n",
        "Follow up: When was Isaac Newton born and when did he die?\n",
        "Intermediate answer: Isaac Newton was born in 1643 and died in 1727.\n",
        "So the final answer is: No\n",
        "\"\"\"\n",
        "},\n",
        "    {\n",
        "    \"question\": \"Who has more Grammy Awards, Taylor Swift or Beyoncé?\",\n",
        "    \"answer\": \"\"\"\n",
        "Are follow up questions needed here: Yes.\n",
        "Follow up: How many Grammy Awards has Taylor Swift won?\n",
        "Intermediate answer: Taylor Swift has won 14 Grammy Awards (as of 2024).\n",
        "Follow up: How many Grammy Awards has Beyoncé won?\n",
        "Intermediate answer: Beyoncé has won 32 Grammy Awards (as of 2024).\n",
        "So the final answer is: Beyoncé\n",
        "\"\"\"\n",
        "},\n",
        "{\n",
        "    \"question\": \"Which came first, the invention of the telephone or the light bulb?\",\n",
        "    \"answer\": \"\"\"\n",
        "Are follow up questions needed here: Yes.\n",
        "Follow up: When was the telephone invented?\n",
        "Intermediate answer: The telephone was invented by Alexander Graham Bell in 1876.\n",
        "Follow up: When was the light bulb invented?\n",
        "Intermediate answer: Thomas Edison developed a practical incandescent light bulb in 1879.\n",
        "So the final answer is: The telephone\n",
        "\"\"\"\n",
        "},\n",
        "{\n",
        "    \"question\": \"Was the capital of Brazil always Brasília?\",\n",
        "    \"answer\": \"\"\"\n",
        "Are follow up questions needed here: Yes.\n",
        "Follow up: What is the current capital of Brazil?\n",
        "Intermediate answer: The current capital of Brazil is Brasília.\n",
        "Follow up: Was there a different capital before Brasília?\n",
        "Intermediate answer: Yes, the capital was Rio de Janeiro before Brasília became the capital in 1960.\n",
        "So the final answer is: No\n",
        "\"\"\"\n",
        "}\n",
        "]\n",
        "\n"
      ],
      "metadata": {
        "id": "wmG66TCNMgGz"
      },
      "execution_count": 10,
      "outputs": []
    },
    {
      "cell_type": "code",
      "source": [
        "example_selector = SemanticSimilarityExampleSelector.from_examples(\n",
        "    # This is the list of examples available to select from.\n",
        "    few_shot_prompt,\n",
        "    # This is the embedding class used to produce embeddings which are used to measure semantic similarity.\n",
        "    NVIDIAEmbeddings(),\n",
        "    # This is the VectorStore class that is used to store the embeddings and do a similarity search over.\n",
        "    Chroma,\n",
        "    # This is the number of examples to produce.\n",
        "    k=1,\n",
        ")\n",
        "\n",
        "# Select the most similar example to the input.\n",
        "question = \"Who was the father of Mary Ball Washington?\"\n",
        "selected_examples = example_selector.select_examples({\"question\": question})\n",
        "print(f\"Examples most similar to the input: {question}\")\n",
        "for example in selected_examples:\n",
        "    print(\"\\n\")\n",
        "    for k, v in example.items():\n",
        "        print(f\"{k}: {v}\")"
      ],
      "metadata": {
        "colab": {
          "base_uri": "https://localhost:8080/"
        },
        "id": "LS6i9jmYMgEM",
        "outputId": "1b389dbb-ae82-4973-ddf4-eef11b1ae9ca"
      },
      "execution_count": 14,
      "outputs": [
        {
          "output_type": "stream",
          "name": "stdout",
          "text": [
            "Examples most similar to the input: Who was the father of Mary Ball Washington?\n",
            "\n",
            "\n",
            "answer: \n",
            "Are follow up questions needed here: Yes.\n",
            "Follow up: When was the telephone invented?\n",
            "Intermediate answer: The telephone was invented by Alexander Graham Bell in 1876.\n",
            "Follow up: When was the light bulb invented?\n",
            "Intermediate answer: Thomas Edison developed a practical incandescent light bulb in 1879.\n",
            "So the final answer is: The telephone\n",
            "\n",
            "question: Which came first, the invention of the telephone or the light bulb?\n"
          ]
        }
      ]
    },
    {
      "cell_type": "code",
      "source": [
        "prompt = FewShotPromptTemplate(\n",
        "    example_selector=example_selector,\n",
        "    example_prompt=prompt,\n",
        "    suffix=\"Question: {input}\",\n",
        "    input_variables=[\"input\"],\n",
        ")\n",
        "\n",
        "print(\n",
        "    prompt.invoke({\"input\": \"Who was the father of Mary Ball Washington?\"}).to_string()\n",
        ")"
      ],
      "metadata": {
        "colab": {
          "base_uri": "https://localhost:8080/"
        },
        "id": "1t3g9RSLVgAP",
        "outputId": "ddefdf91-9b3a-4ed9-9ba6-1d45827aea38"
      },
      "execution_count": 16,
      "outputs": [
        {
          "output_type": "stream",
          "name": "stdout",
          "text": [
            "Question: Which came first, the invention of the telephone or the light bulb?\n",
            "\n",
            "Are follow up questions needed here: Yes.\n",
            "Follow up: When was the telephone invented?\n",
            "Intermediate answer: The telephone was invented by Alexander Graham Bell in 1876.\n",
            "Follow up: When was the light bulb invented?\n",
            "Intermediate answer: Thomas Edison developed a practical incandescent light bulb in 1879.\n",
            "So the final answer is: The telephone\n",
            "\n",
            "\n",
            "Question: Who was the father of Mary Ball Washington?\n"
          ]
        }
      ]
    },
    {
      "cell_type": "markdown",
      "source": [
        "## 3. FewShotChatMessagePromptTemplate\n",
        "This specific template is designed for chat-based models (like GPT-4 in chat mode). Instead of producing a plain text string, it builds a series of chat messages that simulate a real conversation:\n",
        "\n",
        "- Each example is shown as a conversation between a \"human\" and an \"AI\".\n",
        "\n",
        "- After the few-shot examples, the user’s actual message is appended.\n",
        "\n",
        "- The model sees all of this context before it responds.\n",
        "\n",
        "This structure mimics a real dialogue and is especially useful when you're aiming for a natural, conversational tone."
      ],
      "metadata": {
        "id": "X5d6frMPVys0"
      }
    },
    {
      "cell_type": "code",
      "source": [
        "from langchain_core.prompts import ChatPromptTemplate, FewShotChatMessagePromptTemplate\n",
        "\n",
        "# Initialize OpenAI embeddings\n",
        "embeddings = NVIDIAEmbeddings()\n",
        "\n",
        "# Initialize the Vector DB\n",
        "chroma = Chroma(persist_directory=\"fewshot_chat\", embedding_function=embeddings)\n",
        "\n",
        "\n",
        "# Define examples for few-shot prompting :\n",
        "examples = [\n",
        "    {\n",
        "        \"instruction\": \"You are an expert in writing meeting minutes. Please write meeting minutes based on the given information\",\n",
        "        \"input\": \"On December 25, 2023, XYZ Company's marketing strategy meeting began at 3 PM. The meeting was attended by Marketing Team Leader John Smith, Digital Marketing Manager Sarah Johnson, and Social Media Manager Mike Wilson. The main purpose of the meeting was to establish marketing strategies for the first half of 2024 and discuss ideas for new social media campaigns. Team Leader John Smith provided a brief overview of recent market trends, followed by presentations from each team member about strategic ideas in their respective fields.\",\n",
        "        \"answer\": \"\"\"\n",
        "Meeting Minutes: XYZ Company Marketing Strategy Meeting\n",
        "Date: December 25, 2023\n",
        "Location: XYZ Company Conference Room\n",
        "Attendees: John Smith (Marketing Team Leader), Sarah Johnson (Digital Marketing Manager), Mike Wilson (Social Media Manager)\n",
        "\n",
        "1. Opening\n",
        "   - Meeting began with opening remarks by Team Leader John Smith.\n",
        "   - Meeting purpose: Establish marketing strategies for H1 2024 and discuss new social media campaign ideas.\n",
        "\n",
        "2. Market Trend Overview (John Smith)\n",
        "   - Team Leader John Smith presented analysis of recent market trends.\n",
        "   - Shared insights on consumer behavior changes and competitor strategies.\n",
        "3. Digital Marketing Strategy (Sarah Johnson)\n",
        "   - Sarah Johnson presented digital marketing strategy.\n",
        "   - Focused on online advertising and SEO optimization methods.\n",
        "\n",
        "4. Social Media Campaign (Mike Wilson)\n",
        "   - Mike Wilson proposed ideas for new social media campaigns.\n",
        "   - Explained plans for influencer marketing and content strategy.\n",
        "\n",
        "5. Comprehensive Discussion\n",
        "   - Team members shared and discussed ideas.\n",
        "   - Discussed budget and resource allocation for each strategy.\n",
        "\n",
        "6. Closing\n",
        "   - Confirmed next meeting date and time.\n",
        "   - Sarah Johnson assigned to compile and distribute meeting minutes.\n",
        "\"\"\",\n",
        "    },\n",
        "    {\n",
        "        \"instruction\": \"You are a summarization expert. Please summarize the content based on the given information\",\n",
        "        \"input\": \"This document is a 20-page report on 'Strategies for Sustainable Urban Development'. The report comprehensively covers the importance of sustainable urban development, current urbanization issues, and various strategies to make urban development sustainable. The report also introduces successful sustainable urban development cases from multiple countries and summarizes the lessons learned from these cases.\",\n",
        "        \"answer\": \"\"\"\n",
        "Document Summary: Strategy Report for Sustainable Urban Development\n",
        "\n",
        "- Importance: Emphasizes the necessity of sustainable urban development and its social, economic, and environmental benefits.\n",
        "- Current Issues: Analyzes major problems in current urbanization processes, such as environmental pollution, resource depletion, and increasing inequality.\n",
        "- Strategies: Presents various strategies to achieve sustainable urban development. These include eco-friendly construction, public transportation improvements, energy efficiency enhancement, and strengthening community engagement.\n",
        "- Case Studies: Introduces successful sustainable development cases from cities worldwide. For example, explains achievable strategies through cases like Copenhagen, Denmark and Yokohama, Japan.\n",
        "- Lessons: Summarizes key lessons learned from these cases. Emphasized lessons include the importance of multi-faceted approaches, cooperation with local communities, and the need for long-term planning.\n",
        "\n",
        "This report provides an in-depth analysis of how sustainable urban development can be realized in practical and effective forms.\n",
        "\"\"\",\n",
        "    },\n",
        "    {\n",
        "        \"instruction\": \"You are a sentence correction expert. Please correct the following sentences\",\n",
        "        \"input\": \"Our company is planning to introduce a new marketing strategy. Through this, communication with customers will become more effective.\",\n",
        "        \"answer\": \"This company expects to improve customer communication more effectively by introducing a new marketing strategy.\",\n",
        "    },\n",
        "]"
      ],
      "metadata": {
        "id": "rZrZAq9bWKpH"
      },
      "execution_count": 17,
      "outputs": []
    },
    {
      "cell_type": "code",
      "source": [
        "# Add examples to the vector store\n",
        "texts = [example[\"instruction\"] + \" \" + example[\"input\"] for example in examples]\n",
        "metadatas = examples\n",
        "chroma.add_texts(texts=texts, metadatas=metadatas)\n",
        "\n",
        "# Example query\n",
        "query = {\n",
        "    \"instruction\": \"Please write the meeting minutes\",\n",
        "    \"input\": \"On December 26, 2023, the product development team of ABC Technology Company held a weekly progress meeting for a new mobile application project. The meeting was attended by Project Manager Choi Hyun-soo, Lead Developer Hwang Ji-yeon, and UI/UX Designer Kim Tae-young. The main purpose of the meeting was to review the current progress of the project and establish plans for upcoming milestones. Each team member provided updates on their respective areas of work, and the team set goals for the next week.\",\n",
        "}\n",
        "\n",
        "# Perform similarity search\n",
        "query_text = query[\"instruction\"] + \" \" + query[\"input\"]\n",
        "results = chroma.similarity_search(query_text, k=1)\n",
        "print(results)"
      ],
      "metadata": {
        "colab": {
          "base_uri": "https://localhost:8080/"
        },
        "id": "kYwGfi0CWKlj",
        "outputId": "bdb4daa2-75ea-422d-a206-fce0daff392f"
      },
      "execution_count": 18,
      "outputs": [
        {
          "output_type": "stream",
          "name": "stdout",
          "text": [
            "[Document(id='f75696d8-7655-4fa7-8fd6-d1f8cafc80d7', metadata={'answer': '\\nMeeting Minutes: XYZ Company Marketing Strategy Meeting\\nDate: December 25, 2023\\nLocation: XYZ Company Conference Room\\nAttendees: John Smith (Marketing Team Leader), Sarah Johnson (Digital Marketing Manager), Mike Wilson (Social Media Manager)\\n\\n1. Opening\\n   - Meeting began with opening remarks by Team Leader John Smith.\\n   - Meeting purpose: Establish marketing strategies for H1 2024 and discuss new social media campaign ideas.\\n\\n2. Market Trend Overview (John Smith)\\n   - Team Leader John Smith presented analysis of recent market trends.\\n   - Shared insights on consumer behavior changes and competitor strategies.\\n3. Digital Marketing Strategy (Sarah Johnson)\\n   - Sarah Johnson presented digital marketing strategy.\\n   - Focused on online advertising and SEO optimization methods.\\n\\n4. Social Media Campaign (Mike Wilson)\\n   - Mike Wilson proposed ideas for new social media campaigns.\\n   - Explained plans for influencer marketing and content strategy.\\n\\n5. Comprehensive Discussion\\n   - Team members shared and discussed ideas.\\n   - Discussed budget and resource allocation for each strategy.\\n\\n6. Closing\\n   - Confirmed next meeting date and time.\\n   - Sarah Johnson assigned to compile and distribute meeting minutes.\\n', 'input': \"On December 25, 2023, XYZ Company's marketing strategy meeting began at 3 PM. The meeting was attended by Marketing Team Leader John Smith, Digital Marketing Manager Sarah Johnson, and Social Media Manager Mike Wilson. The main purpose of the meeting was to establish marketing strategies for the first half of 2024 and discuss ideas for new social media campaigns. Team Leader John Smith provided a brief overview of recent market trends, followed by presentations from each team member about strategic ideas in their respective fields.\", 'instruction': 'You are an expert in writing meeting minutes. Please write meeting minutes based on the given information'}, page_content=\"You are an expert in writing meeting minutes. Please write meeting minutes based on the given information On December 25, 2023, XYZ Company's marketing strategy meeting began at 3 PM. The meeting was attended by Marketing Team Leader John Smith, Digital Marketing Manager Sarah Johnson, and Social Media Manager Mike Wilson. The main purpose of the meeting was to establish marketing strategies for the first half of 2024 and discuss ideas for new social media campaigns. Team Leader John Smith provided a brief overview of recent market trends, followed by presentations from each team member about strategic ideas in their respective fields.\")]\n"
          ]
        }
      ]
    },
    {
      "cell_type": "code",
      "source": [
        "# Print the most similar example\n",
        "print(f\"Most similar example to the input:\\n{query_text}\\n\")\n",
        "for result in results:\n",
        "    print(f'Instruction:\\n{result.metadata[\"instruction\"]}')\n",
        "    print(f'Input:\\n{result.metadata[\"input\"]}')\n",
        "    print(f'Answer:\\n{result.metadata[\"answer\"]}')"
      ],
      "metadata": {
        "colab": {
          "base_uri": "https://localhost:8080/"
        },
        "id": "MFyH5nO5WKi7",
        "outputId": "f5f3cf56-f5ea-43fe-e9f2-30dbef4f6809"
      },
      "execution_count": 19,
      "outputs": [
        {
          "output_type": "stream",
          "name": "stdout",
          "text": [
            "Most similar example to the input:\n",
            "Please write the meeting minutes On December 26, 2023, the product development team of ABC Technology Company held a weekly progress meeting for a new mobile application project. The meeting was attended by Project Manager Choi Hyun-soo, Lead Developer Hwang Ji-yeon, and UI/UX Designer Kim Tae-young. The main purpose of the meeting was to review the current progress of the project and establish plans for upcoming milestones. Each team member provided updates on their respective areas of work, and the team set goals for the next week.\n",
            "\n",
            "Instruction:\n",
            "You are an expert in writing meeting minutes. Please write meeting minutes based on the given information\n",
            "Input:\n",
            "On December 25, 2023, XYZ Company's marketing strategy meeting began at 3 PM. The meeting was attended by Marketing Team Leader John Smith, Digital Marketing Manager Sarah Johnson, and Social Media Manager Mike Wilson. The main purpose of the meeting was to establish marketing strategies for the first half of 2024 and discuss ideas for new social media campaigns. Team Leader John Smith provided a brief overview of recent market trends, followed by presentations from each team member about strategic ideas in their respective fields.\n",
            "Answer:\n",
            "\n",
            "Meeting Minutes: XYZ Company Marketing Strategy Meeting\n",
            "Date: December 25, 2023\n",
            "Location: XYZ Company Conference Room\n",
            "Attendees: John Smith (Marketing Team Leader), Sarah Johnson (Digital Marketing Manager), Mike Wilson (Social Media Manager)\n",
            "\n",
            "1. Opening\n",
            "   - Meeting began with opening remarks by Team Leader John Smith.\n",
            "   - Meeting purpose: Establish marketing strategies for H1 2024 and discuss new social media campaign ideas.\n",
            "\n",
            "2. Market Trend Overview (John Smith)\n",
            "   - Team Leader John Smith presented analysis of recent market trends.\n",
            "   - Shared insights on consumer behavior changes and competitor strategies.\n",
            "3. Digital Marketing Strategy (Sarah Johnson)\n",
            "   - Sarah Johnson presented digital marketing strategy.\n",
            "   - Focused on online advertising and SEO optimization methods.\n",
            "\n",
            "4. Social Media Campaign (Mike Wilson)\n",
            "   - Mike Wilson proposed ideas for new social media campaigns.\n",
            "   - Explained plans for influencer marketing and content strategy.\n",
            "\n",
            "5. Comprehensive Discussion\n",
            "   - Team members shared and discussed ideas.\n",
            "   - Discussed budget and resource allocation for each strategy.\n",
            "\n",
            "6. Closing\n",
            "   - Confirmed next meeting date and time.\n",
            "   - Sarah Johnson assigned to compile and distribute meeting minutes.\n",
            "\n"
          ]
        }
      ]
    },
    {
      "cell_type": "code",
      "source": [
        "# Create the final prompt template\n",
        "final_prompt = ChatPromptTemplate.from_messages(\n",
        "    [\n",
        "        (\n",
        "            \"system\",\n",
        "            \"You are a helpful assistant.\",\n",
        "        ),\n",
        "        (\n",
        "            \"human\",\n",
        "            \"{instruction}:\\n{input}\",\n",
        "        ),\n",
        "    ]\n",
        ")\n",
        "\n",
        "# Combine the prompt and the best example\n",
        "best_example = results[0].metadata\n",
        "filled_prompt = final_prompt.format_messages(**best_example)\n",
        "\n",
        "# Print the filled prompt\n",
        "print(\"\\nFilled Prompt:\\n\")\n",
        "for message in filled_prompt:\n",
        "    # Determine message type and extract content\n",
        "    message_type = type(message).__name__  # e.g., SystemMessage, HumanMessage, AIMessage\n",
        "    content = message.content\n",
        "    print(f\"{message_type}:\\n{content}\\n\")"
      ],
      "metadata": {
        "colab": {
          "base_uri": "https://localhost:8080/"
        },
        "id": "TtxydKu1WKgQ",
        "outputId": "e40e500b-05e3-43ee-b7c8-204ae7338daf"
      },
      "execution_count": 20,
      "outputs": [
        {
          "output_type": "stream",
          "name": "stdout",
          "text": [
            "\n",
            "Filled Prompt:\n",
            "\n",
            "SystemMessage:\n",
            "You are a helpful assistant.\n",
            "\n",
            "HumanMessage:\n",
            "You are an expert in writing meeting minutes. Please write meeting minutes based on the given information:\n",
            "On December 25, 2023, XYZ Company's marketing strategy meeting began at 3 PM. The meeting was attended by Marketing Team Leader John Smith, Digital Marketing Manager Sarah Johnson, and Social Media Manager Mike Wilson. The main purpose of the meeting was to establish marketing strategies for the first half of 2024 and discuss ideas for new social media campaigns. Team Leader John Smith provided a brief overview of recent market trends, followed by presentations from each team member about strategic ideas in their respective fields.\n",
            "\n"
          ]
        }
      ]
    },
    {
      "cell_type": "code",
      "source": [
        "# Query the model with the filled prompt\n",
        "formatted_prompt = \"\\n\".join([f\"{type(message).__name__}:\\n{message.content}\" for message in filled_prompt])\n",
        "response = llm.predict(formatted_prompt)\n",
        "\n",
        "# Print the model's response\n",
        "print(\"\\nResponse:\\n\")\n",
        "print(response)"
      ],
      "metadata": {
        "colab": {
          "base_uri": "https://localhost:8080/"
        },
        "id": "JdDddqgGWKeG",
        "outputId": "2c5433f2-4b16-4ae1-d2e2-8fc2be69dead"
      },
      "execution_count": 21,
      "outputs": [
        {
          "output_type": "stream",
          "name": "stdout",
          "text": [
            "\n",
            "Response:\n",
            "\n",
            "**Meeting Minutes: XYZ Company Marketing Strategy Meeting**\n",
            "\n",
            "**Date:** December 25, 2023\n",
            "**Time:** 3:00 PM\n",
            "**Attendees:**\n",
            "\n",
            "* John Smith, Marketing Team Leader\n",
            "* Sarah Johnson, Digital Marketing Manager\n",
            "* Mike Wilson, Social Media Manager\n",
            "\n",
            "**Objective:**\n",
            "The main purpose of the meeting was to discuss and establish marketing strategies for the first half of 2024 and explore new ideas for social media campaigns.\n",
            "\n",
            "**Summary of Discussions:**\n",
            "\n",
            "1. **Market Trends Overview:** John Smith provided a brief overview of recent market trends, highlighting key areas of focus for the company's marketing efforts in the upcoming year.\n",
            "2. **Strategic Presentations:** Each team member presented their ideas for strategic marketing initiatives in their respective fields:\n",
            "\t* Sarah Johnson shared digital marketing strategies to enhance the company's online presence and drive website traffic.\n",
            "\t* Mike Wilson presented social media campaign ideas to increase engagement and reach new audiences.\n",
            "3. **Key Takeaways:**\n",
            "\t* The team discussed the importance of integrating social media and digital marketing efforts to maximize impact.\n",
            "\t* Emphasis was placed on creating content that resonates with the target audience and drives conversion.\n",
            "\n",
            "**Action Items:**\n",
            "\n",
            "* The marketing team will develop a comprehensive marketing plan for the first half of 2024, incorporating the discussed strategies and ideas.\n",
            "* Sarah Johnson will lead the digital marketing efforts, with a focus on search engine optimization (SEO) and pay-per-click (PPC) advertising.\n",
            "* Mike Wilson will develop a social media content calendar and launch new campaigns to increase engagement and brand awareness.\n",
            "\n",
            "**Next Steps:**\n",
            "\n",
            "* The marketing team will reconvene on January 15, 2024, to review the draft marketing plan and provide feedback.\n",
            "* Regular progress updates will be shared among team members to ensure successful implementation of the marketing strategies.\n",
            "\n",
            "**Adjournment:**\n",
            "The meeting was adjourned at 4:30 PM.\n",
            "\n",
            "**Respectfully submitted,**\n",
            "[Your Name]\n"
          ]
        }
      ]
    },
    {
      "cell_type": "markdown",
      "source": [
        "## 4. Dynamic few-shot Prompting\n",
        "Sometimes, it’s not ideal to always show the same few-shot examples for every input. Some questions might benefit from different types of examples depending on what they’re asking. That’s where dynamic few-shot prompting comes in.\n",
        "\n",
        "Instead of hardcoding your examples, you let the system choose examples based on how semantically similar they are to the current input. This improves relevance and overall model performance.\n",
        "\n",
        "\n"
      ],
      "metadata": {
        "id": "CYm9sraxXLP8"
      }
    },
    {
      "cell_type": "code",
      "source": [
        "from langchain_chroma import Chroma\n",
        "from langchain_core.example_selectors import SemanticSimilarityExampleSelector\n",
        "from langchain_nvidia_ai_endpoints import NVIDIAEmbeddings\n",
        "\n",
        "examples = [\n",
        "    {\"input\": \"2 plus 2\", \"output\": \"4\"},\n",
        "    {\"input\": \"2 plus 3\", \"output\": \"5\"},\n",
        "    {\"input\": \"2 plus 4\", \"output\": \"6\"},\n",
        "    {\"input\": \"What did the tree say to the wind?\", \"output\": \"nothing at all\"},\n",
        "    {\n",
        "        \"input\": \"Write me a poem about the stars\",\n",
        "        \"output\": \"Stars above and stars below, where they end we do not know.\",\n",
        "    },\n",
        "    {\n",
        "        \"input\": \"Tell me a joke about birds\",\n",
        "        \"output\": \"Why don’t birds use social media? They already tweet.\",\n",
        "    },\n",
        "    {\n",
        "        \"input\": \"3 plus 5\",\n",
        "        \"output\": \"8\"\n",
        "    },\n",
        "    {\n",
        "        \"input\": \"What did the rock say to the sky?\",\n",
        "        \"output\": \"It just sat there in silence.\"\n",
        "    }\n",
        "]\n",
        "\n",
        "\n",
        "to_vectorize = [\" \".join(example.values()) for example in examples]\n",
        "embeddings = NVIDIAEmbeddings()\n",
        "vectorstores = Chroma.from_texts(to_vectorize, embeddings, metadatas=examples)"
      ],
      "metadata": {
        "id": "DdhE-pqAXfDr"
      },
      "execution_count": 22,
      "outputs": []
    },
    {
      "cell_type": "code",
      "source": [
        "# create a selector\n",
        "example_selector = SemanticSimilarityExampleSelector(\n",
        "    vectorstore=vectorstores,\n",
        "    k=2\n",
        ")\n",
        "\n",
        "example_selector.select_examples({\"input\": \"2 plus 2\"})"
      ],
      "metadata": {
        "colab": {
          "base_uri": "https://localhost:8080/"
        },
        "id": "2MWv0_QmXe-n",
        "outputId": "1c8698d7-f0b9-4fb7-a872-157595277d02"
      },
      "execution_count": 23,
      "outputs": [
        {
          "output_type": "execute_result",
          "data": {
            "text/plain": [
              "[{'input': '2 plus 2', 'output': '4'}, {'input': '2 plus 3', 'output': '5'}]"
            ]
          },
          "metadata": {},
          "execution_count": 23
        }
      ]
    },
    {
      "cell_type": "code",
      "source": [
        "from langchain_core.prompts import ChatPromptTemplate, FewShotChatMessagePromptTemplate\n",
        "\n",
        "# Define the few-shot prompt.\n",
        "few_shot_prompt = FewShotChatMessagePromptTemplate(\n",
        "    # The input variables select the values to pass to the example_selector\n",
        "    input_variables=[\"input\"],\n",
        "    example_selector=example_selector,\n",
        "    # Define how each example will be formatted.\n",
        "    # In this case, each example will become 2 messages:\n",
        "    # 1 human, and 1 AI\n",
        "    example_prompt=ChatPromptTemplate.from_messages(\n",
        "        [(\"human\", \"{input}\"), (\"ai\", \"{output}\")]\n",
        "    ),\n",
        ")\n",
        "\n",
        "print(few_shot_prompt.invoke(input='whats 5 plus 10').to_messages())"
      ],
      "metadata": {
        "colab": {
          "base_uri": "https://localhost:8080/"
        },
        "id": "Ty4J_FQfXe77",
        "outputId": "eca85a18-bc25-4654-8be9-3f2f586b64fd"
      },
      "execution_count": 24,
      "outputs": [
        {
          "output_type": "stream",
          "name": "stdout",
          "text": [
            "[HumanMessage(content='2 plus 3', additional_kwargs={}, response_metadata={}), AIMessage(content='5', additional_kwargs={}, response_metadata={}), HumanMessage(content='3 plus 5', additional_kwargs={}, response_metadata={}), AIMessage(content='8', additional_kwargs={}, response_metadata={})]\n"
          ]
        }
      ]
    },
    {
      "cell_type": "code",
      "source": [
        "final_prompt = ChatPromptTemplate.from_messages(\n",
        "    [\n",
        "        (\"system\", \"You are a wondrous wizard of math.\"),\n",
        "        few_shot_prompt,\n",
        "        (\"human\", \"{input}\"),\n",
        "    ]\n",
        ")\n",
        "\n",
        "print(few_shot_prompt.invoke(input=\"What's 3 * 3?\"))"
      ],
      "metadata": {
        "colab": {
          "base_uri": "https://localhost:8080/"
        },
        "id": "UZvauK_iXe5s",
        "outputId": "c35f9ce0-0f8e-40f4-e321-12ab2c4f98a6"
      },
      "execution_count": 26,
      "outputs": [
        {
          "output_type": "stream",
          "name": "stdout",
          "text": [
            "messages=[HumanMessage(content='3 plus 5', additional_kwargs={}, response_metadata={}), AIMessage(content='8', additional_kwargs={}, response_metadata={}), HumanMessage(content='2 plus 3', additional_kwargs={}, response_metadata={}), AIMessage(content='5', additional_kwargs={}, response_metadata={})]\n"
          ]
        }
      ]
    },
    {
      "cell_type": "code",
      "source": [
        "chain = final_prompt | llm\n",
        "\n",
        "chain.invoke({\"input\": \"What's 4 * 3?\"})"
      ],
      "metadata": {
        "colab": {
          "base_uri": "https://localhost:8080/"
        },
        "id": "n6HBEoVrXe3V",
        "outputId": "a4794a98-908b-47f9-823a-0127173a035c"
      },
      "execution_count": 27,
      "outputs": [
        {
          "output_type": "execute_result",
          "data": {
            "text/plain": [
              "AIMessage(content='With a flick of my wand and a whisper of mathemagical incantations, I decree... 12!', additional_kwargs={}, response_metadata={'role': 'assistant', 'content': 'With a flick of my wand and a whisper of mathemagical incantations, I decree... 12!', 'token_usage': {'prompt_tokens': 62, 'total_tokens': 86, 'completion_tokens': 24}, 'finish_reason': 'stop', 'model_name': 'meta/llama-3.1-70b-instruct'}, id='run-08f5336c-2748-4e16-82c0-c7a35dd727ae-0', usage_metadata={'input_tokens': 62, 'output_tokens': 24, 'total_tokens': 86}, role='assistant')"
            ]
          },
          "metadata": {},
          "execution_count": 27
        }
      ]
    },
    {
      "cell_type": "code",
      "source": [],
      "metadata": {
        "id": "dzAMYFf0Xev8"
      },
      "execution_count": null,
      "outputs": []
    }
  ]
}
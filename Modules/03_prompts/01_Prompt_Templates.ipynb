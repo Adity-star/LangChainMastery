{
  "nbformat": 4,
  "nbformat_minor": 0,
  "metadata": {
    "colab": {
      "provenance": []
    },
    "kernelspec": {
      "name": "python3",
      "display_name": "Python 3"
    },
    "language_info": {
      "name": "python"
    }
  },
  "cells": [
    {
      "cell_type": "markdown",
      "source": [
        "# Prompt Templates\n",
        "**Prompt Templates** are tools designed to generate structured prompts for a language model. They take user input and parameters as input and use these to create prompts that guide the model's response.\n",
        "\n",
        "Prompt Templates help to ensure that the model’s output is relevant, contextually aware, and coherent.\n",
        "\n",
        "## Types of Prompt Templates\n",
        "1. **String PromptTemplates**\n",
        "These prompt templates are used to format a single string, and generally are used for simpler inputs.\n",
        "2. **Chat Prompt Templates**:\n",
        "These templates are tailored for chat-based models and can include multiple messages, user roles, and system instructions.\n",
        "3. **MessagesPlaceholder**\n",
        "This prompt template is responsible for adding a list of messages in a particular place. In the above ChatPromptTemplate, we saw how we could format two messages, each one a string. But what if we wanted the user to pass in a list of messages that we would slot into a particular spot? This is how you use MessagesPlaceholder.\n"
      ],
      "metadata": {
        "id": "BHa-7ZTUE05V"
      }
    },
    {
      "cell_type": "markdown",
      "source": [
        "## Setup"
      ],
      "metadata": {
        "id": "M8ncUAy7F8-Z"
      }
    },
    {
      "cell_type": "code",
      "source": [
        "%pip install langchain_community langchain langchain-nvidia-ai-endpoints"
      ],
      "metadata": {
        "id": "xF7DH1mOF88J"
      },
      "execution_count": null,
      "outputs": []
    },
    {
      "cell_type": "code",
      "source": [
        "import getpass\n",
        "import os\n",
        "\n",
        "# Set up your api key\n",
        "if not os.environ.get(\"NVIDIA_API_KEY\"):\n",
        "  os.environ[\"NVIDIA_API_KEY\"] = getpass.getpass(\"Enter API key for NVIDIA: \")"
      ],
      "metadata": {
        "colab": {
          "base_uri": "https://localhost:8080/"
        },
        "id": "zMy2ZV44F85z",
        "outputId": "03c9daf1-c2ca-4bfe-c355-b2223b528b24"
      },
      "execution_count": 3,
      "outputs": [
        {
          "name": "stdout",
          "output_type": "stream",
          "text": [
            "Enter API key for NVIDIA: ··········\n"
          ]
        }
      ]
    },
    {
      "cell_type": "code",
      "source": [
        "from langchain.chat_models import init_chat_model\n",
        "from langchain_nvidia_ai_endpoints import NVIDIAEmbeddings\n",
        "\n",
        "# Select the chat model\n",
        "llm = init_chat_model('meta/llama-3.1-70b-instruct', model_provider = 'nvidia')\n",
        "\n",
        "# Select the embedding model\n",
        "embeddings = NVIDIAEmbeddings(model='NV-Embed-QA')"
      ],
      "metadata": {
        "id": "qe5DXWvqF83x"
      },
      "execution_count": 4,
      "outputs": []
    },
    {
      "cell_type": "markdown",
      "source": [
        "## 1. String PromptTemplates"
      ],
      "metadata": {
        "id": "XGZD2uDKE4-O"
      }
    },
    {
      "cell_type": "code",
      "source": [
        "from langchain_core.prompts import PromptTemplate\n",
        "\n",
        "template = \"\"\"Tell me about {topic}\"\"\"\n",
        "\n",
        "prompt_template = PromptTemplate.from_template(template)\n",
        "\n",
        "template\n"
      ],
      "metadata": {
        "colab": {
          "base_uri": "https://localhost:8080/",
          "height": 36
        },
        "id": "YDF3BhFhE46t",
        "outputId": "a834f8f7-df4a-4f42-86db-893a8d71b86a"
      },
      "execution_count": 9,
      "outputs": [
        {
          "output_type": "execute_result",
          "data": {
            "text/plain": [
              "'Tell me about {topic}'"
            ],
            "application/vnd.google.colaboratory.intrinsic+json": {
              "type": "string"
            }
          },
          "metadata": {},
          "execution_count": 9
        }
      ]
    },
    {
      "cell_type": "code",
      "source": [
        "# Assign topic to prompt\n",
        "prompt_template = prompt_template.format(topic=\"Dinousors\")\n",
        "prompt_template"
      ],
      "metadata": {
        "colab": {
          "base_uri": "https://localhost:8080/",
          "height": 36
        },
        "id": "HFPxUzeZE44D",
        "outputId": "f25c5e8f-253c-4793-e343-bcdcc745493b"
      },
      "execution_count": 11,
      "outputs": [
        {
          "output_type": "execute_result",
          "data": {
            "text/plain": [
              "'Tell me about Dinousors'"
            ],
            "application/vnd.google.colaboratory.intrinsic+json": {
              "type": "string"
            }
          },
          "metadata": {},
          "execution_count": 11
        }
      ]
    },
    {
      "cell_type": "code",
      "source": [
        "from langchain.chat_models import init_chat_model\n",
        "from langchain_nvidia_ai_endpoints import NVIDIAEmbeddings\n",
        "from langchain_core.prompts import PromptTemplate\n",
        "\n",
        "\n",
        "prompt_template = PromptTemplate.from_template(template)\n",
        "\n",
        "# Use prompt_template in the chain\n",
        "chain = prompt_template | llm\n",
        "\n",
        "# Invoke the chain with the input variables\n",
        "chain.invoke({\"topic\": \"Dinousors\"}) # Pass 'Dinousors' as input variable"
      ],
      "metadata": {
        "colab": {
          "base_uri": "https://localhost:8080/"
        },
        "id": "Dcs6VpVJE41v",
        "outputId": "428e93c9-0763-4442-b8ba-d26ab128162b"
      },
      "execution_count": 15,
      "outputs": [
        {
          "output_type": "execute_result",
          "data": {
            "text/plain": [
              "AIMessage(content=\"Dinosaurs! Those magnificent, mighty, and mythical creatures of the ancient world. Dinosaurs were a diverse group of reptiles that roamed the Earth during the Mesozoic Era, which lasted from about 252 million to 66 million years ago. Here's a brief overview:\\n\\n**Types of Dinosaurs:**\\n\\n1. **Sauropods** (e.g., Brachiosaurus, Diplodocus): Long-necked, long-tailed herbivores.\\n2. **Theropods** (e.g., Tyrannosaurus, Velociraptor): Meat-eating predators with hollow bones and three-toed limbs.\\n3. **Ornithischians** (e.g., Triceratops, Stegosaurus): Armored, plant-eating dinosaurs with distinct pelvis structures.\\n4. **Ceratopsians** (e.g., Psittacosaurus, Styracosaurus): Horned, herbivorous dinosaurs with distinctive frills and horns.\\n\\n**Interesting Facts:**\\n\\n1. **First Dinosaur Discovery**: The first dinosaur fossil was found by William Buckland in 1824 (Megalosaurus bucklandi).\\n2. **Largest Land Animal**: Argentinosaurus, a sauropod, is currently the largest known land animal, weighing around 80 tons.\\n3. **Fastest Dinosaur**: Velociraptor, a theropod, is believed to be one of the fastest, with estimated running speeds of up to 45 miles per hour (72 km/h).\\n4. **Most Endangered Species**: All dinosaurs became extinct at the end of the Cretaceous Period, about 66 million years ago, due to a massive asteroid impact and subsequent environmental changes.\\n\\n**Famous Dinosaurs:**\\n\\n1. **Tyrannosaurus Rex**: One of the most iconic, fearsome carnivores in history, known for its powerful bite forces.\\n2. **Diplodocus**: A long, slender, plant-eating sauropod with a remarkable tail length of over 23 feet (7 meters).\\n3. **Velociraptor**: Intelligent, pack-hunting theropods famous for their appearances in movies and popular media.\\n4. **Triceratops**: A horned ceratopsian with a distinctive frill on its head, used for defense and display purposes.\\n\\n**Where did Dinosaurs Live?**\\n\\nDinosaurs existed across various continents, including:\\n\\n1. North America (e.g., USA, Canada, Mexico)\\n2. South America (e.g., Argentina, Brazil, Uruguay)\\n3. Europe (e.g., UK, Germany, Spain)\\n4. Asia (e.g., China, India, Mongolia)\\n5. Africa (e.g., Egypt, Morocco, South Africa)\\n\\n**How did Dinosaurs Become Extinct?**\\n\\nThe most widely accepted theory is that a massive asteroid impact, combined with intense volcanic activity and a shift in the Earth's climate, led to the extinction of all non-avian dinosaurs.\\n\\n**Legacy of Dinosaurs:**\\n\\nDinosaurs continue to inspire wonder, awe, and fascination among scientists and the general public alike. They have also influenced art, literature, film, and popular culture. Even after 66 million years, dinosaurs remain an integral part of our collective imagination!\\n\\nWas there anything specific you'd like to know more about?\", additional_kwargs={}, response_metadata={'role': 'assistant', 'content': \"Dinosaurs! Those magnificent, mighty, and mythical creatures of the ancient world. Dinosaurs were a diverse group of reptiles that roamed the Earth during the Mesozoic Era, which lasted from about 252 million to 66 million years ago. Here's a brief overview:\\n\\n**Types of Dinosaurs:**\\n\\n1. **Sauropods** (e.g., Brachiosaurus, Diplodocus): Long-necked, long-tailed herbivores.\\n2. **Theropods** (e.g., Tyrannosaurus, Velociraptor): Meat-eating predators with hollow bones and three-toed limbs.\\n3. **Ornithischians** (e.g., Triceratops, Stegosaurus): Armored, plant-eating dinosaurs with distinct pelvis structures.\\n4. **Ceratopsians** (e.g., Psittacosaurus, Styracosaurus): Horned, herbivorous dinosaurs with distinctive frills and horns.\\n\\n**Interesting Facts:**\\n\\n1. **First Dinosaur Discovery**: The first dinosaur fossil was found by William Buckland in 1824 (Megalosaurus bucklandi).\\n2. **Largest Land Animal**: Argentinosaurus, a sauropod, is currently the largest known land animal, weighing around 80 tons.\\n3. **Fastest Dinosaur**: Velociraptor, a theropod, is believed to be one of the fastest, with estimated running speeds of up to 45 miles per hour (72 km/h).\\n4. **Most Endangered Species**: All dinosaurs became extinct at the end of the Cretaceous Period, about 66 million years ago, due to a massive asteroid impact and subsequent environmental changes.\\n\\n**Famous Dinosaurs:**\\n\\n1. **Tyrannosaurus Rex**: One of the most iconic, fearsome carnivores in history, known for its powerful bite forces.\\n2. **Diplodocus**: A long, slender, plant-eating sauropod with a remarkable tail length of over 23 feet (7 meters).\\n3. **Velociraptor**: Intelligent, pack-hunting theropods famous for their appearances in movies and popular media.\\n4. **Triceratops**: A horned ceratopsian with a distinctive frill on its head, used for defense and display purposes.\\n\\n**Where did Dinosaurs Live?**\\n\\nDinosaurs existed across various continents, including:\\n\\n1. North America (e.g., USA, Canada, Mexico)\\n2. South America (e.g., Argentina, Brazil, Uruguay)\\n3. Europe (e.g., UK, Germany, Spain)\\n4. Asia (e.g., China, India, Mongolia)\\n5. Africa (e.g., Egypt, Morocco, South Africa)\\n\\n**How did Dinosaurs Become Extinct?**\\n\\nThe most widely accepted theory is that a massive asteroid impact, combined with intense volcanic activity and a shift in the Earth's climate, led to the extinction of all non-avian dinosaurs.\\n\\n**Legacy of Dinosaurs:**\\n\\nDinosaurs continue to inspire wonder, awe, and fascination among scientists and the general public alike. They have also influenced art, literature, film, and popular culture. Even after 66 million years, dinosaurs remain an integral part of our collective imagination!\\n\\nWas there anything specific you'd like to know more about?\", 'token_usage': {'prompt_tokens': 16, 'total_tokens': 701, 'completion_tokens': 685}, 'finish_reason': 'stop', 'model_name': 'meta/llama-3.1-70b-instruct'}, id='run-641e9d27-7305-4de6-b9b8-b91de079da42-0', usage_metadata={'input_tokens': 16, 'output_tokens': 685, 'total_tokens': 701}, role='assistant')"
            ]
          },
          "metadata": {},
          "execution_count": 15
        }
      ]
    },
    {
      "cell_type": "markdown",
      "source": [
        "## 2. Chat PromptTemplte\n",
        "- ChatPromptTemplate can be used to include a conversation history as a prompt.\n",
        "\n",
        "- Messages are structured as tuples in the format (role , message ) and are created as a list.\n",
        "\n",
        "- These prompt templates are used to format a list of messages. These \"templates\" consist of a list of templates themselves."
      ],
      "metadata": {
        "id": "bNUCbhQyE4zn"
      }
    },
    {
      "cell_type": "code",
      "source": [
        "from langchain_core.prompts import ChatPromptTemplate\n",
        "\n",
        "chat_prompt = ChatPromptTemplate([\n",
        "    ('system', \"You are a helpful assistance\"),\n",
        "    ('user', 'Tell me about {topic}')\n",
        "])\n",
        "\n",
        "chat_prompt.format(topic=\"Germany\")"
      ],
      "metadata": {
        "colab": {
          "base_uri": "https://localhost:8080/",
          "height": 36
        },
        "id": "QCPW2DzgE4xY",
        "outputId": "57616da8-5b01-4a9d-933e-986dd3845d47"
      },
      "execution_count": 18,
      "outputs": [
        {
          "output_type": "execute_result",
          "data": {
            "text/plain": [
              "'System: You are a helpful assistance\\nHuman: Tell me about Germany'"
            ],
            "application/vnd.google.colaboratory.intrinsic+json": {
              "type": "string"
            }
          },
          "metadata": {},
          "execution_count": 18
        }
      ]
    },
    {
      "cell_type": "code",
      "source": [
        "\n",
        "chat_template = ChatPromptTemplate.from_messages(\n",
        "    [\n",
        "        (\"system\", \"You are a friendly AI assistant. Your name is {name}.\"),\n",
        "        (\"human\", \"Hello how are you!\"),\n",
        "        (\"ai\", \"Hello! How can I assist you?\"),\n",
        "        (\"human\", \"{user_input}\"),\n",
        "    ]\n",
        ")\n",
        "\n",
        "# Create chat messages\n",
        "messages = chat_template.format_messages(name=\"beru\", user_input=\"What is your name?\")\n",
        "messages\n"
      ],
      "metadata": {
        "colab": {
          "base_uri": "https://localhost:8080/"
        },
        "id": "dcKa4IDTE4vA",
        "outputId": "30d3388d-6047-485a-fb58-4889e32b3065"
      },
      "execution_count": 19,
      "outputs": [
        {
          "output_type": "execute_result",
          "data": {
            "text/plain": [
              "[SystemMessage(content='You are a friendly AI assistant. Your name is beru.', additional_kwargs={}, response_metadata={}),\n",
              " HumanMessage(content='Hello how are you!', additional_kwargs={}, response_metadata={}),\n",
              " AIMessage(content='Hello! How can I assist you?', additional_kwargs={}, response_metadata={}),\n",
              " HumanMessage(content='What is your name?', additional_kwargs={}, response_metadata={})]"
            ]
          },
          "metadata": {},
          "execution_count": 19
        }
      ]
    },
    {
      "cell_type": "code",
      "source": [
        "llm.invoke(messages).content"
      ],
      "metadata": {
        "colab": {
          "base_uri": "https://localhost:8080/",
          "height": 54
        },
        "id": "_OD292AmE4sx",
        "outputId": "b3aa91b3-aa11-4ece-e652-0333801447df"
      },
      "execution_count": 21,
      "outputs": [
        {
          "output_type": "execute_result",
          "data": {
            "text/plain": [
              "\"My name is Beru, nice to meet you! I'm a friendly AI assistant, here to help and chat with you. How about you, how's your day going so far?\""
            ],
            "application/vnd.google.colaboratory.intrinsic+json": {
              "type": "string"
            }
          },
          "metadata": {},
          "execution_count": 21
        }
      ]
    },
    {
      "cell_type": "markdown",
      "source": [
        "## 3. MessagePlaceHolder\n",
        "- LangChain also provides a MessagePlaceholder , which provides complete control over rendering messages during formatting.\n",
        "- This can be useful if you’re unsure which roles to use in a message prompt template or if you want to insert a list of messages during formatting.\n",
        "- This prompt template is responsible for adding a list of messages in a particular place. In the above ChatPromptTemplate, we saw how we could format two messages, each one a string. But what if we wanted the user to pass in a list of messages that we would slot into a particular spot"
      ],
      "metadata": {
        "id": "fymNdC9hE4qd"
      }
    },
    {
      "cell_type": "code",
      "source": [
        "from langchain_core.prompts import ChatPromptTemplate, MessagesPlaceholder\n",
        "from langchain_core.messages import HumanMessage\n",
        "\n",
        "prompt_template = ChatPromptTemplate([\n",
        "    (\"system\", \"You are a helpful assistant you have to assist on any given topic as best as you can\"\n",
        "    ),\n",
        "    MessagesPlaceholder(variable_name='Assistance'),\n",
        "    ('human', 'how to book a flight ticket')\n",
        "])\n",
        "\n",
        "prompt_template"
      ],
      "metadata": {
        "colab": {
          "base_uri": "https://localhost:8080/"
        },
        "id": "K27V-trnE4op",
        "outputId": "7bb909ed-3109-4c05-ccde-f294fae2b43a"
      },
      "execution_count": 25,
      "outputs": [
        {
          "output_type": "execute_result",
          "data": {
            "text/plain": [
              "ChatPromptTemplate(input_variables=['Assistance'], input_types={'Assistance': list[typing.Annotated[typing.Union[typing.Annotated[langchain_core.messages.ai.AIMessage, Tag(tag='ai')], typing.Annotated[langchain_core.messages.human.HumanMessage, Tag(tag='human')], typing.Annotated[langchain_core.messages.chat.ChatMessage, Tag(tag='chat')], typing.Annotated[langchain_core.messages.system.SystemMessage, Tag(tag='system')], typing.Annotated[langchain_core.messages.function.FunctionMessage, Tag(tag='function')], typing.Annotated[langchain_core.messages.tool.ToolMessage, Tag(tag='tool')], typing.Annotated[langchain_core.messages.ai.AIMessageChunk, Tag(tag='AIMessageChunk')], typing.Annotated[langchain_core.messages.human.HumanMessageChunk, Tag(tag='HumanMessageChunk')], typing.Annotated[langchain_core.messages.chat.ChatMessageChunk, Tag(tag='ChatMessageChunk')], typing.Annotated[langchain_core.messages.system.SystemMessageChunk, Tag(tag='SystemMessageChunk')], typing.Annotated[langchain_core.messages.function.FunctionMessageChunk, Tag(tag='FunctionMessageChunk')], typing.Annotated[langchain_core.messages.tool.ToolMessageChunk, Tag(tag='ToolMessageChunk')]], FieldInfo(annotation=NoneType, required=True, discriminator=Discriminator(discriminator=<function _get_type at 0x7ec4e0989300>, custom_error_type=None, custom_error_message=None, custom_error_context=None))]]}, partial_variables={}, messages=[SystemMessagePromptTemplate(prompt=PromptTemplate(input_variables=[], input_types={}, partial_variables={}, template='You are a helpful assistant you have to assist on any given topic as best as you can'), additional_kwargs={}), MessagesPlaceholder(variable_name='Assistance'), HumanMessagePromptTemplate(prompt=PromptTemplate(input_variables=[], input_types={}, partial_variables={}, template='how to book a flight ticket'), additional_kwargs={})])"
            ]
          },
          "metadata": {},
          "execution_count": 25
        }
      ]
    },
    {
      "cell_type": "code",
      "source": [
        "formatted_prompt = prompt_template.format_prompt(\n",
        "    Assistance=[\n",
        "        ('human', 'hello! I am beru. how are you'),\n",
        "        ('ai', 'Nice to meet you! I am good')\n",
        "    ])\n",
        "\n",
        "print(formatted_prompt)"
      ],
      "metadata": {
        "colab": {
          "base_uri": "https://localhost:8080/"
        },
        "id": "w6AeEcCHE4mB",
        "outputId": "e0b6de1a-42d4-45df-95c2-ca7ef8ff81df"
      },
      "execution_count": 28,
      "outputs": [
        {
          "output_type": "stream",
          "name": "stdout",
          "text": [
            "messages=[SystemMessage(content='You are a helpful assistant you have to assist on any given topic as best as you can', additional_kwargs={}, response_metadata={}), HumanMessage(content='hello! I am beru. how are you', additional_kwargs={}, response_metadata={}), AIMessage(content='Nice to meet you! I am good', additional_kwargs={}, response_metadata={}), HumanMessage(content='how to book a flight ticket', additional_kwargs={}, response_metadata={})]\n"
          ]
        }
      ]
    },
    {
      "cell_type": "code",
      "source": [
        "from langchain_core.output_parsers import StrOutputParser\n",
        "chain = chat_prompt | llm | StrOutputParser()\n",
        "\n",
        "\n",
        "result = chain.invoke(formatted_prompt.to_messages())"
      ],
      "metadata": {
        "id": "ygprSQcME4j-"
      },
      "execution_count": 31,
      "outputs": []
    },
    {
      "cell_type": "code",
      "source": [
        "from IPython.display import display, Markdown\n",
        "\n",
        "display(Markdown(result))"
      ],
      "metadata": {
        "colab": {
          "base_uri": "https://localhost:8080/",
          "height": 805
        },
        "id": "Faks3VKZE4hv",
        "outputId": "b34f7694-54d2-4ccc-e9fa-b25aebb0d5ba"
      },
      "execution_count": 32,
      "outputs": [
        {
          "output_type": "display_data",
          "data": {
            "text/plain": [
              "<IPython.core.display.Markdown object>"
            ],
            "text/markdown": "You want to know how to book a flight ticket. Here's a step-by-step guide to help you book a flight ticket:\n\n**Booking a Flight Ticket: A Step-by-Step Guide**\n\n**Option 1: Book through an Airline's Website**\n\n1. Go to the website of the airline you want to fly with (e.g., [www.airindia.in](http://www.airindia.in), [www.indiGo.in](http://www.indiGo.in), etc.).\n2. Click on the \"Book a Flight\" or \"Plan a Trip\" tab.\n3. Enter your travel details:\n\t* From (departure city)\n\t* To (arrival city)\n\t* Departure Date\n\t* Return Date (if applicable)\n\t* Number of Passengers\n4. Choose your flight:\n\t* Select your preferred flight from the search results.\n\t* Check the flight schedule, fare, and availability.\n5. Enter passenger details:\n\t* Name\n\t* Age\n\t* Contact Information\n\t* Email ID\n6. Make the payment:\n\t* Pay using a credit/debit card or online banking.\n\t* Receive an email confirmation with your ticket details.\n\n**Option 2: Book through a Travel Portal**\n\n1. Visit a travel portal website (e.g., [www.makemytrip.com](http://www.makemytrip.com), [www.expedia.com](http://www.expedia.com), etc.).\n2. Enter your travel details:\n\t* From (departure city)\n\t* To (arrival city)\n\t* Departure Date\n\t* Return Date (if applicable)\n\t* Number of Passengers\n3. Compare prices and choose your flight:\n\t* Browse through the search results to find the best deals.\n\t* Filter flights by price, duration, and airline.\n4. Enter passenger details:\n\t* Name\n\t* Age"
          },
          "metadata": {}
        }
      ]
    },
    {
      "cell_type": "code",
      "source": [],
      "metadata": {
        "id": "Pi-0sqH9LsCu"
      },
      "execution_count": null,
      "outputs": []
    }
  ]
}
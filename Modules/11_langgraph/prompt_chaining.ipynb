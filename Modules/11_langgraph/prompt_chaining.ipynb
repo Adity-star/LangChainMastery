{
 "cells": [
  {
   "cell_type": "code",
   "execution_count": 3,
   "id": "a6c369a1",
   "metadata": {},
   "outputs": [
    {
     "data": {
      "text/plain": [
       "True"
      ]
     },
     "execution_count": 3,
     "metadata": {},
     "output_type": "execute_result"
    }
   ],
   "source": [
    "from langgraph.graph import StateGraph, START, END \n",
    "from langchain_google_genai import ChatGoogleGenerativeAI\n",
    "from typing import TypedDict\n",
    "from dotenv import load_dotenv\n",
    "\n",
    "load_dotenv()"
   ]
  },
  {
   "cell_type": "code",
   "execution_count": 4,
   "id": "2d97a191",
   "metadata": {},
   "outputs": [],
   "source": [
    "model = ChatGoogleGenerativeAI(model=\"gemini-1.5-flash\")"
   ]
  },
  {
   "cell_type": "code",
   "execution_count": 5,
   "id": "88d78edc",
   "metadata": {},
   "outputs": [],
   "source": [
    "class BlogState(TypedDict):\n",
    "    title: str\n",
    "    outline: str\n",
    "    content: str"
   ]
  },
  {
   "cell_type": "code",
   "execution_count": 6,
   "id": "f69652dd",
   "metadata": {},
   "outputs": [],
   "source": [
    "def create_outline(state: BlogState) -> BlogState:\n",
    "\n",
    "    title = state['title']\n",
    "\n",
    "    prompt = f'Generate a detailed outline for a blog post titled \"{title}\".'\n",
    "    outline = model.invoke(prompt).content\n",
    "\n",
    "    state['outline'] = outline\n",
    "\n",
    "    return state"
   ]
  },
  {
   "cell_type": "code",
   "execution_count": 7,
   "id": "3c8a8832",
   "metadata": {},
   "outputs": [],
   "source": [
    "def create_blog(state: BlogState) -> BlogState:\n",
    "\n",
    "    title = state['title']\n",
    "\n",
    "    outline = state['outline']\n",
    "\n",
    "    prompt = f'Write a detailed blog on the title - {title} using the follwing outline \\n {outline}'\n",
    "\n",
    "    content = model.invoke(prompt).content\n",
    "\n",
    "    state['content'] = content\n",
    "\n",
    "    return state"
   ]
  },
  {
   "cell_type": "code",
   "execution_count": 9,
   "id": "d99cbdf0",
   "metadata": {},
   "outputs": [],
   "source": [
    "graph = StateGraph(BlogState)\n",
    "\n",
    "\n",
    "# nodes\n",
    "graph.add_node('create_outline', create_outline)\n",
    "graph.add_node('create_blog', create_blog)\n",
    "\n",
    "# edges\n",
    "graph.add_edge(START, 'create_outline')\n",
    "graph.add_edge('create_outline', 'create_blog')\n",
    "graph.add_edge('create_blog', END)\n",
    "\n",
    "workflow = graph.compile()"
   ]
  },
  {
   "cell_type": "code",
   "execution_count": 10,
   "id": "cf20d635",
   "metadata": {},
   "outputs": [
    {
     "name": "stdout",
     "output_type": "stream",
     "text": [
      "{'title': 'Declining jobs due to AI', 'outline': \"## Blog Post Outline: Declining Jobs Due to AI\\n\\n**I. Introduction (approx. 100-150 words)**\\n\\n* **Hook:** Start with a compelling statistic or anecdote illustrating AI's impact on the job market (e.g., number of jobs automated, a specific company's layoff due to AI implementation).\\n* **Context:** Briefly define AI and its increasing presence in various industries.\\n* **Thesis Statement:** Clearly state the post's central argument – that AI is causing a decline in certain jobs, but also creating new opportunities, and the need for adaptation.  Highlight the complexity of the issue, avoiding overly alarmist or overly optimistic tones.\\n* **Roadmap:** Briefly outline the sections to be covered (e.g., types of jobs affected, industries impacted, potential solutions).\\n\\n\\n**II. Types of Jobs Most Affected by AI (approx. 200-250 words)**\\n\\n* **Routine, Repetitive Tasks:**  Discuss jobs heavily reliant on repetitive manual or cognitive tasks (e.g., data entry, assembly line work, basic customer service).  Provide specific examples.\\n* **Data-Heavy Jobs:** Explore professions involving significant data processing and analysis where AI can automate tasks (e.g., financial analysts, market researchers).  Explain how AI algorithms outperform humans in speed and accuracy.\\n* **Transportation and Logistics:** Analyze the impact on truck drivers, delivery personnel, and other transportation roles due to self-driving vehicles and automated systems.\\n* **Manufacturing and Production:** Discuss the effects of robotic automation on factory workers and other manufacturing jobs.\\n\\n**III. Industries Facing Significant Disruption (approx. 150-200 words)**\\n\\n* **Manufacturing:**  Elaborate on the shift from human-labor intensive manufacturing to automated factories.\\n* **Transportation:** Detail the impact on trucking, delivery services, and potentially even public transportation.\\n* **Customer Service:** Discuss the increasing use of chatbots and AI-powered virtual assistants.\\n* **Finance:** Analyze the role of AI in algorithmic trading, fraud detection, and risk assessment.\\n* **Retail:** Explore the impact of automated checkout systems and AI-powered inventory management.\\n\\n\\n**IV. The Creation of New Jobs (approx. 150-200 words)**\\n\\n* **AI-Related Roles:** Highlight the growing demand for AI specialists (e.g., data scientists, AI engineers, machine learning specialists).\\n* **Jobs Supporting AI Systems:** Discuss the need for professionals to maintain, monitor, and improve AI systems (e.g., AI trainers, data annotators).\\n* **Emerging Industries:** Mention new industries and roles emerging due to AI advancements (e.g., AI ethics specialists, AI policy makers).\\n* **Emphasis on the need for reskilling and upskilling.**\\n\\n\\n**V. Adapting to the Changing Landscape (approx. 200-250 words)**\\n\\n* **Reskilling and Upskilling Initiatives:** Discuss government programs, educational institutions, and corporate training programs aimed at equipping workers with new skills.\\n* **Lifelong Learning:** Emphasize the importance of continuous learning and adaptation to stay relevant in the evolving job market.\\n* **Focus on Human Skills:** Highlight the importance of uniquely human skills like creativity, critical thinking, emotional intelligence, and complex problem-solving, which are less susceptible to automation.\\n* **Policy Implications:** Briefly touch upon the role of government in managing the transition, such as social safety nets and retraining programs.\\n\\n\\n**VI. Conclusion (approx. 100-150 words)**\\n\\n* **Recap of main points:** Briefly summarize the key arguments regarding the decline of certain jobs and the emergence of new ones.\\n* **Call to action:** Encourage readers to consider the implications of AI on their own careers and to proactively engage in reskilling or upskilling.\\n* **Final thought:** Offer a balanced perspective on the future of work in the age of AI, emphasizing both challenges and opportunities.  Avoid overly pessimistic or utopian conclusions.\\n\\n\\n**VII. Optional additions:**\\n\\n* Include relevant data visualizations (charts, graphs) to illustrate the impact of AI on employment.\\n* Add links to relevant resources (e.g., reports on AI and employment, articles on reskilling initiatives).\\n* Incorporate quotes from experts in the field of AI and the future of work.\\n\\n\\nThis detailed outline provides a comprehensive structure for a blog post on the declining jobs due to AI. Remember to maintain a clear, concise, and engaging writing style throughout the post.\", 'content': \"## Declining Jobs Due to AI: A Necessary Evolution\\n\\n**I. Introduction**\\n\\nA recent report from McKinsey predicts that automation could displace up to 30% of the current workforce by 2030.  This isn't a dystopian fantasy; it's the rapidly approaching reality shaped by Artificial Intelligence (AI). AI, encompassing machine learning, deep learning, and natural language processing, is no longer a futuristic concept. It's already transforming industries, streamlining processes, and, inevitably, impacting the job market. This post explores the complex relationship between AI and employment: acknowledging the decline of certain jobs while highlighting the creation of new opportunities and the crucial need for adaptation in this evolving landscape. We'll examine the types of jobs most affected, the industries facing disruption, the emergence of new roles, and strategies for navigating this technological shift.\\n\\n**II. Types of Jobs Most Affected by AI**\\n\\nAI's impact isn't uniform.  Certain roles, characterized by routine or data-heavy tasks, are particularly vulnerable.  Jobs involving repetitive manual tasks, like those on assembly lines, are prime candidates for automation. Similarly, data entry clerks, whose work involves processing large volumes of standardized information, face increasing competition from AI-powered systems.  In the cognitive realm, basic customer service roles are increasingly handled by chatbots, capable of handling simple inquiries and resolving common issues.\\n\\nData-heavy jobs are also significantly affected. Financial analysts, for instance, use AI algorithms for quicker and more accurate market analysis and risk assessment.  Market researchers leverage AI to sift through vast datasets, identifying trends and patterns far exceeding human capacity.  However, the sophisticated interpretation and strategic decision-making aspects of these roles remain crucial and less susceptible to immediate automation.\\n\\nThe transportation and logistics sector is undergoing a major transformation.  Self-driving trucks and delivery robots are poised to revolutionize the industry, potentially displacing millions of truck drivers and delivery personnel.  Similarly, in manufacturing and production, robotic automation is already replacing human workers in many factories, leading to increased efficiency but also job displacement.\\n\\n\\n**III. Industries Facing Significant Disruption**\\n\\nThe manufacturing sector is experiencing a dramatic shift towards automated factories, relying heavily on robots and AI-powered systems for production and quality control.  Transportation, as discussed earlier, is undergoing a fundamental change with autonomous vehicles. Customer service is rapidly adopting AI-powered chatbots and virtual assistants, leading to reduced need for human agents in handling simple queries.\\n\\nThe finance industry is heavily leveraging AI for algorithmic trading, fraud detection, and risk assessment.  These AI systems can process vast quantities of data far faster and more accurately than humans, leading to increased efficiency but also impacting the roles of some financial analysts and traders.  Retail is also witnessing significant disruption through automated checkout systems, AI-powered inventory management, and personalized recommendation engines, impacting roles like cashiers and stock clerks.\\n\\n\\n**IV. The Creation of New Jobs**\\n\\nWhile AI is causing job displacement, it's simultaneously creating new roles.  The demand for AI specialists – data scientists, AI engineers, machine learning specialists – is skyrocketing.  These professionals are crucial for developing, implementing, and maintaining AI systems.  Furthermore, there's a growing need for professionals to support these systems: AI trainers, who teach AI algorithms, and data annotators, who label and prepare data for AI training.\\n\\nThe emergence of AI is also fostering entirely new industries and roles.  AI ethics specialists are becoming increasingly important to ensure responsible AI development and deployment. AI policy makers are needed to navigate the complex legal and ethical implications of this rapidly evolving technology.  This underscores the need for reskilling and upskilling initiatives to equip workers with the skills required for these emerging roles.\\n\\n\\n**V. Adapting to the Changing Landscape**\\n\\nAdapting to this changing landscape requires a proactive approach.  Government programs, educational institutions, and corporations are increasingly investing in reskilling and upskilling initiatives to equip workers with the skills needed for the jobs of the future.  Lifelong learning becomes paramount; continuous upskilling and acquiring new knowledge are crucial for staying relevant.\\n\\nThe focus must shift towards uniquely human skills – creativity, critical thinking, emotional intelligence, and complex problem-solving.  These skills are less susceptible to automation and are highly valued in the evolving job market. Government policies play a vital role in facilitating this transition. Social safety nets, robust retraining programs, and investment in education are crucial to mitigate the negative impacts of automation and ensure a just transition for displaced workers.\\n\\n\\n**VI. Conclusion**\\n\\nAI is undoubtedly reshaping the job market, leading to the decline of certain roles while simultaneously creating new opportunities.  The key to navigating this transition lies in embracing lifelong learning, focusing on uniquely human skills, and proactively engaging in reskilling and upskilling initiatives.  The future of work in the age of AI presents both challenges and opportunities.  By embracing change and adapting to the evolving demands of the job market, individuals and societies can harness the transformative power of AI for a more prosperous and inclusive future.  The time to act is now.  Consider what skills you need to develop to remain competitive and relevant in this rapidly changing world.\\n\\n\\n**(Optional additions would be added here, such as charts showing job displacement vs. job creation in specific sectors, links to relevant reports, and quotes from experts.)**\"}\n"
     ]
    }
   ],
   "source": [
    "intial_state = {'title': 'Declining jobs due to AI'}\n",
    "\n",
    "final_state = workflow.invoke(intial_state)\n",
    "\n",
    "print(final_state)"
   ]
  },
  {
   "cell_type": "code",
   "execution_count": 11,
   "id": "598e94e1",
   "metadata": {},
   "outputs": [
    {
     "name": "stdout",
     "output_type": "stream",
     "text": [
      "## Blog Post Outline: Declining Jobs Due to AI\n",
      "\n",
      "**I. Introduction (approx. 100-150 words)**\n",
      "\n",
      "* **Hook:** Start with a compelling statistic or anecdote illustrating AI's impact on the job market (e.g., number of jobs automated, a specific company's layoff due to AI implementation).\n",
      "* **Context:** Briefly define AI and its increasing presence in various industries.\n",
      "* **Thesis Statement:** Clearly state the post's central argument – that AI is causing a decline in certain jobs, but also creating new opportunities, and the need for adaptation.  Highlight the complexity of the issue, avoiding overly alarmist or overly optimistic tones.\n",
      "* **Roadmap:** Briefly outline the sections to be covered (e.g., types of jobs affected, industries impacted, potential solutions).\n",
      "\n",
      "\n",
      "**II. Types of Jobs Most Affected by AI (approx. 200-250 words)**\n",
      "\n",
      "* **Routine, Repetitive Tasks:**  Discuss jobs heavily reliant on repetitive manual or cognitive tasks (e.g., data entry, assembly line work, basic customer service).  Provide specific examples.\n",
      "* **Data-Heavy Jobs:** Explore professions involving significant data processing and analysis where AI can automate tasks (e.g., financial analysts, market researchers).  Explain how AI algorithms outperform humans in speed and accuracy.\n",
      "* **Transportation and Logistics:** Analyze the impact on truck drivers, delivery personnel, and other transportation roles due to self-driving vehicles and automated systems.\n",
      "* **Manufacturing and Production:** Discuss the effects of robotic automation on factory workers and other manufacturing jobs.\n",
      "\n",
      "**III. Industries Facing Significant Disruption (approx. 150-200 words)**\n",
      "\n",
      "* **Manufacturing:**  Elaborate on the shift from human-labor intensive manufacturing to automated factories.\n",
      "* **Transportation:** Detail the impact on trucking, delivery services, and potentially even public transportation.\n",
      "* **Customer Service:** Discuss the increasing use of chatbots and AI-powered virtual assistants.\n",
      "* **Finance:** Analyze the role of AI in algorithmic trading, fraud detection, and risk assessment.\n",
      "* **Retail:** Explore the impact of automated checkout systems and AI-powered inventory management.\n",
      "\n",
      "\n",
      "**IV. The Creation of New Jobs (approx. 150-200 words)**\n",
      "\n",
      "* **AI-Related Roles:** Highlight the growing demand for AI specialists (e.g., data scientists, AI engineers, machine learning specialists).\n",
      "* **Jobs Supporting AI Systems:** Discuss the need for professionals to maintain, monitor, and improve AI systems (e.g., AI trainers, data annotators).\n",
      "* **Emerging Industries:** Mention new industries and roles emerging due to AI advancements (e.g., AI ethics specialists, AI policy makers).\n",
      "* **Emphasis on the need for reskilling and upskilling.**\n",
      "\n",
      "\n",
      "**V. Adapting to the Changing Landscape (approx. 200-250 words)**\n",
      "\n",
      "* **Reskilling and Upskilling Initiatives:** Discuss government programs, educational institutions, and corporate training programs aimed at equipping workers with new skills.\n",
      "* **Lifelong Learning:** Emphasize the importance of continuous learning and adaptation to stay relevant in the evolving job market.\n",
      "* **Focus on Human Skills:** Highlight the importance of uniquely human skills like creativity, critical thinking, emotional intelligence, and complex problem-solving, which are less susceptible to automation.\n",
      "* **Policy Implications:** Briefly touch upon the role of government in managing the transition, such as social safety nets and retraining programs.\n",
      "\n",
      "\n",
      "**VI. Conclusion (approx. 100-150 words)**\n",
      "\n",
      "* **Recap of main points:** Briefly summarize the key arguments regarding the decline of certain jobs and the emergence of new ones.\n",
      "* **Call to action:** Encourage readers to consider the implications of AI on their own careers and to proactively engage in reskilling or upskilling.\n",
      "* **Final thought:** Offer a balanced perspective on the future of work in the age of AI, emphasizing both challenges and opportunities.  Avoid overly pessimistic or utopian conclusions.\n",
      "\n",
      "\n",
      "**VII. Optional additions:**\n",
      "\n",
      "* Include relevant data visualizations (charts, graphs) to illustrate the impact of AI on employment.\n",
      "* Add links to relevant resources (e.g., reports on AI and employment, articles on reskilling initiatives).\n",
      "* Incorporate quotes from experts in the field of AI and the future of work.\n",
      "\n",
      "\n",
      "This detailed outline provides a comprehensive structure for a blog post on the declining jobs due to AI. Remember to maintain a clear, concise, and engaging writing style throughout the post.\n"
     ]
    }
   ],
   "source": [
    "print(final_state['outline'])"
   ]
  },
  {
   "cell_type": "code",
   "execution_count": 12,
   "id": "7ba0763c",
   "metadata": {},
   "outputs": [
    {
     "name": "stdout",
     "output_type": "stream",
     "text": [
      "## Declining Jobs Due to AI: A Necessary Evolution\n",
      "\n",
      "**I. Introduction**\n",
      "\n",
      "A recent report from McKinsey predicts that automation could displace up to 30% of the current workforce by 2030.  This isn't a dystopian fantasy; it's the rapidly approaching reality shaped by Artificial Intelligence (AI). AI, encompassing machine learning, deep learning, and natural language processing, is no longer a futuristic concept. It's already transforming industries, streamlining processes, and, inevitably, impacting the job market. This post explores the complex relationship between AI and employment: acknowledging the decline of certain jobs while highlighting the creation of new opportunities and the crucial need for adaptation in this evolving landscape. We'll examine the types of jobs most affected, the industries facing disruption, the emergence of new roles, and strategies for navigating this technological shift.\n",
      "\n",
      "**II. Types of Jobs Most Affected by AI**\n",
      "\n",
      "AI's impact isn't uniform.  Certain roles, characterized by routine or data-heavy tasks, are particularly vulnerable.  Jobs involving repetitive manual tasks, like those on assembly lines, are prime candidates for automation. Similarly, data entry clerks, whose work involves processing large volumes of standardized information, face increasing competition from AI-powered systems.  In the cognitive realm, basic customer service roles are increasingly handled by chatbots, capable of handling simple inquiries and resolving common issues.\n",
      "\n",
      "Data-heavy jobs are also significantly affected. Financial analysts, for instance, use AI algorithms for quicker and more accurate market analysis and risk assessment.  Market researchers leverage AI to sift through vast datasets, identifying trends and patterns far exceeding human capacity.  However, the sophisticated interpretation and strategic decision-making aspects of these roles remain crucial and less susceptible to immediate automation.\n",
      "\n",
      "The transportation and logistics sector is undergoing a major transformation.  Self-driving trucks and delivery robots are poised to revolutionize the industry, potentially displacing millions of truck drivers and delivery personnel.  Similarly, in manufacturing and production, robotic automation is already replacing human workers in many factories, leading to increased efficiency but also job displacement.\n",
      "\n",
      "\n",
      "**III. Industries Facing Significant Disruption**\n",
      "\n",
      "The manufacturing sector is experiencing a dramatic shift towards automated factories, relying heavily on robots and AI-powered systems for production and quality control.  Transportation, as discussed earlier, is undergoing a fundamental change with autonomous vehicles. Customer service is rapidly adopting AI-powered chatbots and virtual assistants, leading to reduced need for human agents in handling simple queries.\n",
      "\n",
      "The finance industry is heavily leveraging AI for algorithmic trading, fraud detection, and risk assessment.  These AI systems can process vast quantities of data far faster and more accurately than humans, leading to increased efficiency but also impacting the roles of some financial analysts and traders.  Retail is also witnessing significant disruption through automated checkout systems, AI-powered inventory management, and personalized recommendation engines, impacting roles like cashiers and stock clerks.\n",
      "\n",
      "\n",
      "**IV. The Creation of New Jobs**\n",
      "\n",
      "While AI is causing job displacement, it's simultaneously creating new roles.  The demand for AI specialists – data scientists, AI engineers, machine learning specialists – is skyrocketing.  These professionals are crucial for developing, implementing, and maintaining AI systems.  Furthermore, there's a growing need for professionals to support these systems: AI trainers, who teach AI algorithms, and data annotators, who label and prepare data for AI training.\n",
      "\n",
      "The emergence of AI is also fostering entirely new industries and roles.  AI ethics specialists are becoming increasingly important to ensure responsible AI development and deployment. AI policy makers are needed to navigate the complex legal and ethical implications of this rapidly evolving technology.  This underscores the need for reskilling and upskilling initiatives to equip workers with the skills required for these emerging roles.\n",
      "\n",
      "\n",
      "**V. Adapting to the Changing Landscape**\n",
      "\n",
      "Adapting to this changing landscape requires a proactive approach.  Government programs, educational institutions, and corporations are increasingly investing in reskilling and upskilling initiatives to equip workers with the skills needed for the jobs of the future.  Lifelong learning becomes paramount; continuous upskilling and acquiring new knowledge are crucial for staying relevant.\n",
      "\n",
      "The focus must shift towards uniquely human skills – creativity, critical thinking, emotional intelligence, and complex problem-solving.  These skills are less susceptible to automation and are highly valued in the evolving job market. Government policies play a vital role in facilitating this transition. Social safety nets, robust retraining programs, and investment in education are crucial to mitigate the negative impacts of automation and ensure a just transition for displaced workers.\n",
      "\n",
      "\n",
      "**VI. Conclusion**\n",
      "\n",
      "AI is undoubtedly reshaping the job market, leading to the decline of certain roles while simultaneously creating new opportunities.  The key to navigating this transition lies in embracing lifelong learning, focusing on uniquely human skills, and proactively engaging in reskilling and upskilling initiatives.  The future of work in the age of AI presents both challenges and opportunities.  By embracing change and adapting to the evolving demands of the job market, individuals and societies can harness the transformative power of AI for a more prosperous and inclusive future.  The time to act is now.  Consider what skills you need to develop to remain competitive and relevant in this rapidly changing world.\n",
      "\n",
      "\n",
      "**(Optional additions would be added here, such as charts showing job displacement vs. job creation in specific sectors, links to relevant reports, and quotes from experts.)**\n"
     ]
    }
   ],
   "source": [
    "print(final_state['content'])"
   ]
  },
  {
   "cell_type": "code",
   "execution_count": null,
   "id": "c4eac16f",
   "metadata": {},
   "outputs": [],
   "source": []
  }
 ],
 "metadata": {
  "kernelspec": {
   "display_name": "gptenv",
   "language": "python",
   "name": "python3"
  },
  "language_info": {
   "codemirror_mode": {
    "name": "ipython",
    "version": 3
   },
   "file_extension": ".py",
   "mimetype": "text/x-python",
   "name": "python",
   "nbconvert_exporter": "python",
   "pygments_lexer": "ipython3",
   "version": "3.11.13"
  }
 },
 "nbformat": 4,
 "nbformat_minor": 5
}
